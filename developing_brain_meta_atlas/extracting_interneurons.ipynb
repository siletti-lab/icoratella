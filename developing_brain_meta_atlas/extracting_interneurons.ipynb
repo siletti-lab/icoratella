{
 "cells": [
  {
   "cell_type": "markdown",
   "id": "1e03a50a-42a1-45a0-a1b7-c3591e416693",
   "metadata": {},
   "source": [
    "# Selecting Subcortical Interneurons from the Braun et al. Dataset\n",
    "\n",
    "In this notebook, I loaded the Braun Anndata object `human_dev_GRCh38-3.0.0.h5ad` anselected some subcortical interneurons, to integrate them into the main notebook with the developing brain meta-atlas. . This integration aims to enhance the diversity and accuracy of cell type annotations in the developing brain meta-atlas."
   ]
  },
  {
   "cell_type": "code",
   "execution_count": 1,
   "id": "1abcca0a-e0c2-4efa-96a0-ea65ac5cb121",
   "metadata": {},
   "outputs": [],
   "source": [
    "import scanpy as sc\n",
    "import numpy as np\n",
    "import pandas as pd\n",
    "import anndata as ad"
   ]
  },
  {
   "cell_type": "code",
   "execution_count": 2,
   "id": "09de98ee-9397-4a2c-8814-ba7d546b14dc",
   "metadata": {},
   "outputs": [
    {
     "name": "stdout",
     "output_type": "stream",
     "text": [
      "-----\n",
      "anndata     0.10.8\n",
      "scanpy      1.10.1\n",
      "-----\n",
      "PIL                         10.2.0\n",
      "anyio                       NA\n",
      "arrow                       1.3.0\n",
      "asciitree                   NA\n",
      "asttokens                   NA\n",
      "astunparse                  1.6.3\n",
      "attr                        23.1.0\n",
      "attrs                       23.1.0\n",
      "babel                       2.11.0\n",
      "bottleneck                  1.3.7\n",
      "brotli                      1.0.9\n",
      "certifi                     2024.08.30\n",
      "cffi                        1.16.0\n",
      "charset_normalizer          2.0.4\n",
      "cloudpickle                 3.0.0\n",
      "colorama                    0.4.6\n",
      "comm                        0.2.1\n",
      "cycler                      0.10.0\n",
      "cython_runtime              NA\n",
      "dask                        2024.7.0\n",
      "dateutil                    2.8.2\n",
      "debugpy                     1.6.7\n",
      "decorator                   5.1.1\n",
      "defusedxml                  0.7.1\n",
      "executing                   0.8.3\n",
      "fastjsonschema              NA\n",
      "fqdn                        NA\n",
      "h5py                        3.9.0\n",
      "idna                        3.4\n",
      "igraph                      0.11.4\n",
      "ipykernel                   6.28.0\n",
      "isoduration                 NA\n",
      "jedi                        0.18.1\n",
      "jinja2                      3.1.3\n",
      "joblib                      1.2.0\n",
      "json5                       NA\n",
      "jsonpointer                 2.1\n",
      "jsonschema                  4.19.2\n",
      "jsonschema_specifications   NA\n",
      "jupyter_events              0.8.0\n",
      "jupyter_server              2.10.0\n",
      "jupyterlab_server           2.25.1\n",
      "kiwisolver                  1.4.4\n",
      "legacy_api_wrap             NA\n",
      "leidenalg                   0.10.2\n",
      "llvmlite                    0.42.0\n",
      "markupsafe                  2.1.3\n",
      "matplotlib                  3.8.0\n",
      "mpl_toolkits                NA\n",
      "msgpack                     1.1.0\n",
      "natsort                     7.1.1\n",
      "nbformat                    5.9.2\n",
      "numba                       0.59.0\n",
      "numcodecs                   0.13.0\n",
      "numexpr                     2.8.7\n",
      "numpy                       1.26.4\n",
      "optree                      0.11.0\n",
      "overrides                   NA\n",
      "packaging                   23.2\n",
      "pandas                      2.2.1\n",
      "parso                       0.8.3\n",
      "pexpect                     4.8.0\n",
      "pkg_resources               NA\n",
      "platformdirs                3.10.0\n",
      "prometheus_client           NA\n",
      "prompt_toolkit              3.0.43\n",
      "psutil                      5.9.0\n",
      "ptyprocess                  0.7.0\n",
      "pure_eval                   0.2.2\n",
      "pyarrow                     14.0.2\n",
      "pydev_ipython               NA\n",
      "pydevconsole                NA\n",
      "pydevd                      2.9.5\n",
      "pydevd_file_utils           NA\n",
      "pydevd_plugins              NA\n",
      "pydevd_tracing              NA\n",
      "pygments                    2.15.1\n",
      "pyparsing                   3.0.9\n",
      "pythonjsonlogger            NA\n",
      "pytz                        2023.3.post1\n",
      "referencing                 NA\n",
      "requests                    2.31.0\n",
      "rfc3339_validator           0.1.4\n",
      "rfc3986_validator           0.1.1\n",
      "rpds                        NA\n",
      "ruamel                      NA\n",
      "scipy                       1.12.0\n",
      "send2trash                  NA\n",
      "session_info                1.0.0\n",
      "setuptools                  68.2.2\n",
      "six                         1.16.0\n",
      "sklearn                     1.5.1\n",
      "sniffio                     1.3.0\n",
      "socks                       1.7.1\n",
      "sparse                      0.15.4\n",
      "stack_data                  0.2.0\n",
      "tblib                       3.0.0\n",
      "texttable                   1.7.0\n",
      "threadpoolctl               3.5.0\n",
      "tlz                         0.12.1\n",
      "toolz                       0.12.1\n",
      "torch                       2.4.1+cu121\n",
      "torchgen                    NA\n",
      "tornado                     6.3.3\n",
      "tqdm                        4.65.0\n",
      "traitlets                   5.7.1\n",
      "typing_extensions           NA\n",
      "uri_template                NA\n",
      "urllib3                     2.1.0\n",
      "wcwidth                     0.2.5\n",
      "webcolors                   24.8.0\n",
      "websocket                   0.58.0\n",
      "yaml                        6.0.1\n",
      "zarr                        2.18.3\n",
      "zipp                        NA\n",
      "zmq                         25.1.2\n",
      "zstandard                   0.19.0\n",
      "-----\n",
      "IPython             8.20.0\n",
      "jupyter_client      8.6.0\n",
      "jupyter_core        5.5.0\n",
      "jupyterlab          4.0.11\n",
      "notebook            7.0.8\n",
      "-----\n",
      "Python 3.11.5 (main, Sep 11 2023, 13:54:46) [GCC 11.2.0]\n",
      "Linux-4.18.0-553.22.1.el8_10.x86_64-x86_64-with-glibc2.28\n",
      "-----\n",
      "Session information updated at 2025-02-09 15:52\n"
     ]
    }
   ],
   "source": [
    "sc.logging.print_versions()\n",
    "sc.set_figure_params(facecolor=\"white\", figsize=(7, 4))\n",
    "sc.settings.verbosity = 3"
   ]
  },
  {
   "cell_type": "markdown",
   "id": "9717cbe3-11bc-4805-b2c1-b3b240d8c8f4",
   "metadata": {},
   "source": [
    "#### I loaded the Braun et al. integral dataset."
   ]
  },
  {
   "cell_type": "code",
   "execution_count": 3,
   "id": "4e2e284f-bc47-4781-adeb-c06aedd65187",
   "metadata": {},
   "outputs": [],
   "source": [
    "braun = sc.read_h5ad('/hpc/hers_basak/rnaseq_data/Silettilab/samples/human_dev_GRCh38-3.0.0.h5ad')"
   ]
  },
  {
   "cell_type": "code",
   "execution_count": 4,
   "id": "96bdcfc8-4845-4f06-aa35-acb30ef3745e",
   "metadata": {},
   "outputs": [
    {
     "data": {
      "text/plain": [
       "AnnData object with n_obs × n_vars = 1665937 × 33538\n",
       "    obs: 'CellClass', 'CellCycleFraction', 'DoubletFlag', 'DoubletScore', 'Region', 'Subdivision', 'Subregion', 'Tissue', 'TopLevelCluster', 'TotalUMIs', 'organism_ontology_term_id', 'disease_ontology_term_id', 'self_reported_ethnicity_ontology_term_id', 'assay_ontology_term_id', 'sex_ontology_term_id', 'development_stage_ontology_term_id', 'donor_id', 'suspension_type', 'dissection', 'total_UMIs', 'sample_id', 'cluster_id', 'NGenes', 'AnnotationAle', 'Neuroepithelial', 'TotalUMI', 'Chemistry', 'assay'\n",
       "    var: 'Chromosome', 'End', 'Gene', 'Start', 'Strand', 'Selected'\n",
       "    uns: 'batch_condition', 'config', 'radius', 'schema_version', 'species', 'title'\n",
       "    obsm: 'PCA', 'TSNE', 'UMAP'\n",
       "    obsp: 'KNN', 'MKNN', 'RNN'"
      ]
     },
     "execution_count": 4,
     "metadata": {},
     "output_type": "execute_result"
    }
   ],
   "source": [
    "braun"
   ]
  },
  {
   "cell_type": "markdown",
   "id": "e2ea3a15-519e-4ea0-9fda-14d93d865291",
   "metadata": {},
   "source": [
    "#### To retain the metadata of the donor, it is crucial that the column names match. Therefore, I renamed the donor variable to align with the naming convention used in the training meta-atlas."
   ]
  },
  {
   "cell_type": "code",
   "execution_count": 5,
   "id": "666b5ff8-9224-436a-a624-69315e892783",
   "metadata": {},
   "outputs": [],
   "source": [
    "braun.obs.rename(columns={'donor_id': 'donor_kim'}, inplace=True)"
   ]
  },
  {
   "cell_type": "markdown",
   "id": "7228a933-9dcd-47dd-bb51-151f87a2eeb8",
   "metadata": {},
   "source": [
    "#### Given the extensive size of the Braun et al. dataset, I have implemented some preliminary filtering to streamline the data and make the dataset more manageable before proceeding with further analyses."
   ]
  },
  {
   "cell_type": "code",
   "execution_count": 6,
   "id": "8f24e1a4-bbec-4674-9f2a-2fd280176b2d",
   "metadata": {},
   "outputs": [
    {
     "name": "stderr",
     "output_type": "stream",
     "text": [
      "/hpc/hers_basak/rnaseq_data/Silettilab/icoratella/miniconda3/lib/python3.11/site-packages/scanpy/preprocessing/_simple.py:160: ImplicitModificationWarning: Trying to modify attribute `.obs` of view, initializing view as actual.\n",
      "  adata.obs[\"n_genes\"] = number\n"
     ]
    },
    {
     "name": "stdout",
     "output_type": "stream",
     "text": [
      "filtered out 1523 genes that are detected in less than 3 cells\n"
     ]
    }
   ],
   "source": [
    "braun = braun[braun.obs.NGenes > 1000, :]\n",
    "sc.pp.filter_cells(braun, min_genes=200)\n",
    "sc.pp.filter_genes(braun, min_cells=3)"
   ]
  },
  {
   "cell_type": "markdown",
   "id": "7668c5dc-aee8-4c1d-801d-8a90b14307ea",
   "metadata": {},
   "source": [
    "#### I realized that these cells had not been filtered for cell cycling, so I applied a threshold to `CellCycleFraction`—matching the criteria used for the rest of the training dataset (`noAdolescence_nocc_noclusters_ThirdManualAnnotations.h5ad`)—to merge them appropriately."
   ]
  },
  {
   "cell_type": "code",
   "execution_count": 7,
   "id": "7b28a2bc-2e13-46da-965c-a64a6261de19",
   "metadata": {},
   "outputs": [],
   "source": [
    "braun = braun[braun.obs[\"CellCycleFraction\"] < 0.01]"
   ]
  },
  {
   "cell_type": "markdown",
   "id": "c421a2d8-fa17-465e-816b-411d4347610e",
   "metadata": {},
   "source": [
    "#### I selected only the cells belonging to the region 'Subcortex'."
   ]
  },
  {
   "cell_type": "code",
   "execution_count": 8,
   "id": "e5a2515b-1a62-4b71-923b-c64678e343ff",
   "metadata": {},
   "outputs": [],
   "source": [
    "braun = braun[braun.obs['Subregion'] == \"b'Subcortex'\"]"
   ]
  },
  {
   "cell_type": "markdown",
   "id": "d662ed1e-f47c-4dd0-b78c-96718a6f23e5",
   "metadata": {},
   "source": [
    "#### I selected only the cells belonging to the nIPCs subtypes."
   ]
  },
  {
   "cell_type": "code",
   "execution_count": 9,
   "id": "d4ab6c93-17c2-48ca-8375-1a99473ea807",
   "metadata": {},
   "outputs": [],
   "source": [
    "braun = braun[braun.obs['AnnotationAle'].isin([\"Neuronal IPC\", \"Neuroblast\"])]"
   ]
  },
  {
   "cell_type": "markdown",
   "id": "b1872472-f4b7-4d53-b662-f5609c571418",
   "metadata": {},
   "source": [
    "#### I applied some adjustments to make these cells merging correctly to the meta-atlas."
   ]
  },
  {
   "cell_type": "code",
   "execution_count": 10,
   "id": "79dd427f-abe5-45cb-83b5-ef6d23d301c0",
   "metadata": {},
   "outputs": [
    {
     "name": "stderr",
     "output_type": "stream",
     "text": [
      "/hpc/hers_basak/rnaseq_data/Silettilab/icoratella/miniconda3/lib/python3.11/site-packages/anndata/_core/anndata.py:767: UserWarning: \n",
      "AnnData expects .var.index to contain strings, but got values like:\n",
      "    ['AL627309.1', 'AL627309.3', 'LINC00115', 'FAM41C', 'AL645608.1']\n",
      "\n",
      "    Inferred to be: categorical\n",
      "\n",
      "  value_idx = self._prep_dim_index(value.index, attr)\n"
     ]
    }
   ],
   "source": [
    "braun.var = (\n",
    "    braun.var\n",
    "    .reset_index()                      \n",
    "    .rename(columns={'index': 'ensemble_ids'})  \n",
    "    .set_index('Gene')                  \n",
    ")"
   ]
  },
  {
   "cell_type": "markdown",
   "id": "5c1a1862-4b41-4739-8a4b-dd14bfc460d6",
   "metadata": {},
   "source": [
    "#### I used a function to eliminate duplicated genes."
   ]
  },
  {
   "cell_type": "code",
   "execution_count": 11,
   "id": "1abf99b0-4777-465a-b5cc-bf27ae32111f",
   "metadata": {},
   "outputs": [],
   "source": [
    "braun.var.index = braun.var.index.astype(str)\n",
    "braun.var_names_make_unique(join=\"_\")"
   ]
  },
  {
   "cell_type": "code",
   "execution_count": 12,
   "id": "67429d4d-64ac-457b-9dcf-b3ad5f327de8",
   "metadata": {},
   "outputs": [],
   "source": [
    "braun.obs['ThirdManualAnnotations'] = 'Subcortical nIPCs'"
   ]
  },
  {
   "cell_type": "markdown",
   "id": "2556827c-0c53-4fe3-ad74-72515193f710",
   "metadata": {},
   "source": [
    "#### save the result to import it into the main notebook `from_noAdolescence_to_final_training_dataset.ipynb`"
   ]
  },
  {
   "cell_type": "code",
   "execution_count": 13,
   "id": "39039f31-fdc5-42b5-b221-e55c23e5b506",
   "metadata": {},
   "outputs": [],
   "source": [
    "braun.write_h5ad('/hpc/hers_basak/rnaseq_data/Silettilab/samples/final_useful_datasets/braun_subcortical.h5ad')"
   ]
  },
  {
   "cell_type": "code",
   "execution_count": null,
   "id": "deb8128e-57c3-4b71-9527-844adad79e40",
   "metadata": {},
   "outputs": [],
   "source": []
  }
 ],
 "metadata": {
  "kernelspec": {
   "display_name": "Python 3 (ipykernel)",
   "language": "python",
   "name": "python3"
  },
  "language_info": {
   "codemirror_mode": {
    "name": "ipython",
    "version": 3
   },
   "file_extension": ".py",
   "mimetype": "text/x-python",
   "name": "python",
   "nbconvert_exporter": "python",
   "pygments_lexer": "ipython3",
   "version": "3.11.5"
  }
 },
 "nbformat": 4,
 "nbformat_minor": 5
}
