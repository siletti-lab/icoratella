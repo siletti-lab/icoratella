{
 "cells": [
  {
   "cell_type": "markdown",
   "id": "04d9ed8f-3ca9-4573-8d3d-c38675e0327d",
   "metadata": {},
   "source": [
    "# Differential Expression Analysis among the final labels\n",
    "In this notebook, I analyzed the manual annotation stored in the column 'ThirdManualAnnotation' from `noAdolescence_nocc_noclusters_ThirdManualAnnotations_Interneurons.h5ad`, retrieving the top 25 marker genes for each label."
   ]
  },
  {
   "cell_type": "code",
   "execution_count": 1,
   "id": "b3bd0c0c-2af5-4af7-944d-284e55d3d70d",
   "metadata": {},
   "outputs": [],
   "source": [
    "import numpy as np\n",
    "import pandas as pd\n",
    "import scanpy as sc\n",
    "import matplotlib.pyplot as plt\n",
    "import anndata as ad"
   ]
  },
  {
   "cell_type": "code",
   "execution_count": 2,
   "id": "1ac3704b-a7c1-4b9a-8f29-0d32015667b0",
   "metadata": {},
   "outputs": [],
   "source": [
    "adata = sc.read_h5ad('/hpc/hers_basak/rnaseq_data/Silettilab/icoratella/final_useful_datasets/noAdolescence_nocc_noclusters_ThirdManualAnnotations_Interneurons.h5ad')"
   ]
  },
  {
   "cell_type": "code",
   "execution_count": 3,
   "id": "e4e4c6d1-70cf-4c59-be8e-93ca07e3439e",
   "metadata": {},
   "outputs": [],
   "source": [
    "ccGenesHuman = np.loadtxt('/hpc/hers_basak/rnaseq_data/Silettilab/icoratella/models/ccGenesHuman.txt', dtype=str)\n",
    "mask = ~adata.var_names.isin(ccGenesHuman)\n",
    "adata = adata[:, mask]"
   ]
  },
  {
   "cell_type": "code",
   "execution_count": 4,
   "id": "7bcaa40c-78a2-4afa-a125-6481fa40a58a",
   "metadata": {},
   "outputs": [],
   "source": [
    "badGenes = []\n",
    "for el in adata.var_names:\n",
    "    if el.startswith('MT-'):\n",
    "        badGenes.append(el)\n",
    "    elif el.startswith('RP'):\n",
    "        badGenes.append(el)\n",
    "\n",
    "adata = adata[:, ~adata.var_names.isin(badGenes)]"
   ]
  },
  {
   "cell_type": "markdown",
   "id": "5d98dea0-7d53-4ba2-b48f-4746875f87ac",
   "metadata": {},
   "source": [
    "#### I normalized, logarithmized scaled the data, and performed PCA."
   ]
  },
  {
   "cell_type": "code",
   "execution_count": 5,
   "id": "2d3dc8a7-e333-4779-a13e-47cdc682836f",
   "metadata": {},
   "outputs": [
    {
     "name": "stderr",
     "output_type": "stream",
     "text": [
      "/hpc/hers_basak/rnaseq_data/Silettilab/icoratella/miniconda3/lib/python3.11/site-packages/scanpy/preprocessing/_normalization.py:206: UserWarning: Received a view of an AnnData. Making a copy.\n",
      "  view_to_actual(adata)\n"
     ]
    }
   ],
   "source": [
    "sc.pp.normalize_total(adata, target_sum=1e4)\n",
    "sc.pp.log1p(adata)\n",
    "#sc.pp.scale(adata, max_value=10)\n",
    "#sc.tl.pca(adata, svd_solver=\"auto\")"
   ]
  },
  {
   "cell_type": "markdown",
   "id": "55ba3ddb-5755-4ff8-8b5f-49fd752eeb0c",
   "metadata": {},
   "source": [
    "#### I performed Differential Expression Analysis, and plotted the first 25 markers for each cluster."
   ]
  },
  {
   "cell_type": "code",
   "execution_count": 6,
   "id": "e91e1ade-3edc-42bf-87af-ceec8b5c02cf",
   "metadata": {},
   "outputs": [
    {
     "name": "stdout",
     "output_type": "stream",
     "text": [
      "Group Astrocytes:\n",
      "NTRK2', 'CLU', 'LRIG1', 'APOE', 'GPC5', 'LINC00609', 'LRRC4C', 'PLCG2', 'SPARCL1', 'PPP2R2B', 'DAAM2', 'AQP4', 'ATP1A2', 'ADCY2', 'GLIS3', 'CTNNA2', 'CST3', 'BCAN', 'MGST1', 'RYR3', 'NEAT1', 'LIMCH1', 'FAM107A', 'NAV3', 'TNC\n",
      "\n",
      "\n",
      "Group OPCs:\n",
      "PCDH15', 'LHFPL3', 'OPCML', 'CA10', 'FGF14', 'NXPH1', 'MMP16', 'DCC', 'TNR', 'CNTN1', 'NRXN3', 'ANKS1B', 'SGCD', 'KIF13A', 'SNTG1', 'LRRC4C', 'RNF144A', 'DISC1', 'ASTN2', 'SEMA5A', 'SGCZ', 'CNTNAP5', 'SORCS3', 'GRIA2', 'EPN2\n",
      "\n",
      "\n",
      "Group Subcortical nIPCs:\n",
      "HBA2', 'HBA1', 'HES6', 'CACNA2D1', 'AUTS2', 'KCNB2', 'DLX2', 'MAML3', 'PDE4D', 'CCNI', 'NFIB', 'ZIC1', 'KALRN', 'ELAVL2', 'CCSER1', 'PRKX', 'CHRDL1', 'ROBO1', 'NNAT', 'RUNX1T1', 'GNG4', 'STMN1', 'PENK', 'CDKN2D', 'FRMD4B\n",
      "\n",
      "\n",
      "Group early Radial Glia:\n",
      "PLCG2', 'MALAT1', 'LINC00486', 'TUBA1A', 'EEF1G', 'HEY1', 'SFRP1', 'EEF1A1', 'HDAC9', 'HBG2', 'CDH12', 'ID4', 'LEF1', 'EIF1AY', 'LIX1', 'HES4', 'KIAA1217', 'VIM', 'UNC13C', 'MAP1B', 'BAIAP2L1', 'B3GAT2', 'FAM182B', 'MEF2C', 'DPP10\n",
      "\n",
      "\n",
      "Group late Radial Glia:\n",
      "NRG1', 'PTPRM', 'TMEM132B', 'LRRC3B', 'LTBP1', 'PDGFD', 'EPHA5', 'LHX2', 'TMTC2', 'EEPD1', 'PRKG1', 'TMEM163', 'SNTG1', 'HOPX', 'FSTL5', 'PLCE1', 'NPY', 'MEGF10', 'CDON', 'ZFHX4', 'SFRP1', 'EVA1C', 'FAT3', 'SAMD4A', 'TMTC1\n",
      "\n",
      "\n",
      "Group nIPCs:\n",
      "TMEM132D', 'HES6', 'CACNA2D1', 'ELAVL2', 'SVIL', 'KCNQ3', 'LINC00486', 'MAML3', 'GADD45G', 'ELAVL4', 'CBFA2T2', 'KALRN', 'RGS16', 'KCNB2', 'STMN2', 'PLXNA2', 'TFAP2C', 'EOMES', 'EPHA3', 'PDE4D', 'TTR', 'ENC1', 'ARL4D', 'NKAIN2', 'GRAMD1B\n",
      "\n",
      "\n",
      "Group pre-Astrocytes:\n",
      "EGFR', 'ERBB4', 'CSMD1', 'DGKB', 'EEF1G', 'DLX6-AS1', 'MAP3K1', 'DPP6', 'LUZP2', 'VAV3', 'VIM', 'FXYD6', 'DCLK2', 'RFX4', 'MEIS1', 'LRRC4C', 'MAML2', 'LRP1B', 'THRB', 'RIMS1', 'KCNIP1', 'ESRRG', 'MCC', 'KCND2', 'CALM2\n",
      "\n",
      "\n",
      "Group pre-OPCs:\n",
      "EGFR', 'MAML2', 'CSMD1', 'SEZ6L', 'LRP1B', 'DPP6', 'SERINC5', 'CTNNA2', 'NAV2', 'SLC24A3', 'PTPRZ1', 'BCAN', 'XIST', 'KIRREL3', 'DLL3', 'GALNT13', 'GAS1', 'CADM2', 'NOVA1', 'NRXN1', 'KCNQ1OT1', 'ETV1', 'NRCAM', 'NTM', 'NEGR1\n",
      "\n",
      "\n"
     ]
    },
    {
     "name": "stderr",
     "output_type": "stream",
     "text": [
      "/hpc/hers_basak/rnaseq_data/Silettilab/icoratella/miniconda3/lib/python3.11/site-packages/sklearn/linear_model/_logistic.py:469: ConvergenceWarning: lbfgs failed to converge (status=1):\n",
      "STOP: TOTAL NO. of ITERATIONS REACHED LIMIT.\n",
      "\n",
      "Increase the number of iterations (max_iter) or scale the data as shown in:\n",
      "    https://scikit-learn.org/stable/modules/preprocessing.html\n",
      "Please also refer to the documentation for alternative solver options:\n",
      "    https://scikit-learn.org/stable/modules/linear_model.html#logistic-regression\n",
      "  n_iter_i = _check_optimize_result(\n"
     ]
    }
   ],
   "source": [
    "sc.tl.rank_genes_groups(adata, \"ThirdManualAnnotations\", method=\"logreg\")\n",
    "for group in adata.uns['rank_genes_groups']['names'].dtype.names:\n",
    "    genes = adata.uns['rank_genes_groups']['names'][group][:25]\n",
    "    print(f\"Group {group}:\")\n",
    "    print(\"', '\".join(genes))\n",
    "    print(\"\\n\")"
   ]
  },
  {
   "cell_type": "markdown",
   "id": "4f68170d-12ca-4048-a5c8-afa62d986786",
   "metadata": {},
   "source": [
    "#### I also performed a filtering analysis on the previous DEA to see more specific markers."
   ]
  },
  {
   "cell_type": "code",
   "execution_count": 7,
   "id": "d484bf21-f981-4123-b059-a8756478e3f3",
   "metadata": {},
   "outputs": [],
   "source": [
    "sc.tl.filter_rank_genes_groups(adata,  max_out_group_fraction=0.5)\n",
    "filtered_genes = {}\n",
    "for group in adata.uns['rank_genes_groups_filtered']['names'].dtype.names:\n",
    "    genes = adata.uns['rank_genes_groups_filtered']['names'][group]\n",
    "    filtered_gene_list = [gene for gene in genes if pd.notnull(gene)]\n",
    "    filtered_genes[group] = filtered_gene_list[:25]"
   ]
  },
  {
   "cell_type": "markdown",
   "id": "ce85ca9d-d80d-49c5-abaf-587fe9b04e10",
   "metadata": {},
   "source": [
    "Overall, the selected markers for each class appear to be appropriate."
   ]
  },
  {
   "cell_type": "code",
   "execution_count": null,
   "id": "3ce11782-ffa0-4423-9dbc-99e7b0160a19",
   "metadata": {},
   "outputs": [],
   "source": []
  }
 ],
 "metadata": {
  "kernelspec": {
   "display_name": "Python 3 (ipykernel)",
   "language": "python",
   "name": "python3"
  },
  "language_info": {
   "codemirror_mode": {
    "name": "ipython",
    "version": 3
   },
   "file_extension": ".py",
   "mimetype": "text/x-python",
   "name": "python",
   "nbconvert_exporter": "python",
   "pygments_lexer": "ipython3",
   "version": "3.11.5"
  }
 },
 "nbformat": 4,
 "nbformat_minor": 5
}
