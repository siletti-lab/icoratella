{
 "cells": [
  {
   "cell_type": "markdown",
   "id": "04d9ed8f-3ca9-4573-8d3d-c38675e0327d",
   "metadata": {},
   "source": [
    "# Differential Expression Analysis among the final labels\n",
    "In this notebook, I analyzed the manual annotation stored in the column 'ThirdManualAnnotation' from `noAdolescence_nocc_noclusters_ThirdManualAnnotations_Interneurons.h5ad`, retrieving the top 25 marker genes for each label."
   ]
  },
  {
   "cell_type": "code",
   "execution_count": 1,
   "id": "b3bd0c0c-2af5-4af7-944d-284e55d3d70d",
   "metadata": {},
   "outputs": [],
   "source": [
    "import numpy as np\n",
    "import pandas as pd\n",
    "import scanpy as sc\n",
    "import matplotlib.pyplot as plt\n",
    "import anndata as ad"
   ]
  },
  {
   "cell_type": "code",
   "execution_count": 2,
   "id": "1ac3704b-a7c1-4b9a-8f29-0d32015667b0",
   "metadata": {},
   "outputs": [],
   "source": [
    "adata = sc.read_h5ad('/hpc/hers_basak/rnaseq_data/Silettilab/samples/final_useful_datasets/noAdolescence_nocc_noclusters_ThirdManualAnnotations_Interneurons.h5ad')"
   ]
  },
  {
   "cell_type": "code",
   "execution_count": 3,
   "id": "e4e4c6d1-70cf-4c59-be8e-93ca07e3439e",
   "metadata": {},
   "outputs": [],
   "source": [
    "ccGenesHuman = np.loadtxt('/hpc/hers_basak/rnaseq_data/Silettilab/samples/final_useful_datasets/ccGenesHuman.txt', dtype=str)\n",
    "mask = ~adata.var_names.isin(ccGenesHuman)\n",
    "adata = adata[:, mask]"
   ]
  },
  {
   "cell_type": "code",
   "execution_count": 4,
   "id": "7bcaa40c-78a2-4afa-a125-6481fa40a58a",
   "metadata": {},
   "outputs": [],
   "source": [
    "adata = adata[:, ~adata.var_names.str.startswith(('MT-', 'RP'))]"
   ]
  },
  {
   "cell_type": "markdown",
   "id": "5d98dea0-7d53-4ba2-b48f-4746875f87ac",
   "metadata": {},
   "source": [
    "#### I normalized, logarithmized scaled the data, and performed PCA."
   ]
  },
  {
   "cell_type": "code",
   "execution_count": 5,
   "id": "2d3dc8a7-e333-4779-a13e-47cdc682836f",
   "metadata": {},
   "outputs": [
    {
     "name": "stderr",
     "output_type": "stream",
     "text": [
      "/hpc/hers_basak/rnaseq_data/Silettilab/icoratella/miniconda3/lib/python3.11/site-packages/scanpy/preprocessing/_normalization.py:206: UserWarning: Received a view of an AnnData. Making a copy.\n",
      "  view_to_actual(adata)\n"
     ]
    }
   ],
   "source": [
    "sc.pp.normalize_total(adata, target_sum=1e4)\n",
    "sc.pp.log1p(adata)"
   ]
  },
  {
   "cell_type": "markdown",
   "id": "55ba3ddb-5755-4ff8-8b5f-49fd752eeb0c",
   "metadata": {},
   "source": [
    "#### I performed Differential Expression Analysis, and plotted the first 25 markers for each cluster."
   ]
  },
  {
   "cell_type": "code",
   "execution_count": 6,
   "id": "e91e1ade-3edc-42bf-87af-ceec8b5c02cf",
   "metadata": {},
   "outputs": [
    {
     "name": "stdout",
     "output_type": "stream",
     "text": [
      "Group Astrocytes:\n",
      "CLU', 'APOE', 'LINC00609', 'NTRK2', 'GPC5', 'DAAM2', 'PLCG2', 'AQP4-AS1', 'LRIG1', 'PPP2R2B', 'AQP4', 'BCAN', 'FAM107A', 'GLIS3', 'LRRC4C', 'NEAT1', 'RYR3', 'GRM3', 'ATP1A2', 'NAV2', 'LUZP2', 'SPARCL1', 'ADCY2', 'ACSBG1', 'COL5A3\n",
      "\n",
      "\n",
      "Group OPCs:\n",
      "PCDH15', 'LHFPL3', 'CA10', 'OPCML', 'FGF14', 'MMP16', 'NXPH1', 'DCC', 'TNR', 'ANKS1B', 'CNTN1', 'SGCD', 'LRRC4C', 'SNTG1', 'KIF13A', 'RNF144A', 'NRXN3', 'ASTN2', 'PPP2R2B', 'CNTNAP5', 'SEMA5A', 'DISC1', 'GRIA2', 'SCN1A', 'SORCS3\n",
      "\n",
      "\n",
      "Group Subcortical nIPCs:\n",
      "HBA2', 'CACNA2D1', 'HBA1', 'DLX2', 'KCNB2', 'KALRN', 'MAML3', 'HES6', 'AUTS2', 'PDE4D', 'ZIC1', 'ELAVL2', 'ROBO1', 'NNAT', 'CCSER1', 'PRKX', 'RUNX1T1', 'NFIB', 'MYT1L', 'CHRDL1', 'SPIRE1', 'KCNH7', 'KCNQ3', 'RBFOX1', 'USP9Y\n",
      "\n",
      "\n",
      "Group early Radial Glia:\n",
      "PLCG2', 'MALAT1', 'LINC00486', 'TUBA1A', 'EEF1G', 'HEY1', 'SFRP1', 'ID4', 'HBG2', 'EEF1A1', 'CDH12', 'HES4', 'VIM', 'HDAC9', 'LIX1', 'EIF1AY', 'LEF1', 'UNC13C', 'FAM182B', 'BAIAP2L1', 'B3GAT2', 'TUBA1B', 'MAP1B', 'DPP10', 'OOEP\n",
      "\n",
      "\n",
      "Group late Radial Glia:\n",
      "NRG1', 'PTPRM', 'TMEM132B', 'LRRC3B', 'LTBP1', 'PDGFD', 'EPHA5', 'SNTG1', 'EEPD1', 'LHX2', 'TMEM163', 'TMTC2', 'PRKG1', 'FSTL5', 'NPY', 'HOPX', 'PLCE1', 'PCDH11X', 'MEGF10', 'CDON', 'SFRP1', 'TMTC1', 'ZFHX4', 'SAMD4A', 'EVA1C\n",
      "\n",
      "\n",
      "Group nIPCs:\n",
      "TMEM132D', 'HES6', 'MATR3', 'CACNA2D1', 'SVIL', 'ELAVL2', 'GADD45G', 'KCNQ3', 'LINC00486', 'MAML3', 'ELAVL4', 'CBFA2T2', 'KCNB2', 'PDE4D', 'KALRN', 'PLXNA2', 'TFAP2C', 'EPHA3', 'STMN2', 'EOMES', 'RGS16', 'NKAIN2', 'TMEM108', 'HSPA14', 'MLLT11\n",
      "\n",
      "\n",
      "Group pre-Astrocytes:\n",
      "EEF1G', 'CALM2', 'CST3', 'VAV3', 'DPP6', 'LRRC4C', 'CSMD1', 'PTPRT', 'ESRRG', 'COL4A2', 'MCC', 'RGS7', 'LRP1B', 'SLC4A4', 'RGS6', 'MATN2', 'MAML2', 'DCLK2', 'DCC', 'PTPRE', 'MAP3K1', 'DGKB', 'ILDR2', 'LUZP2', 'VIM\n",
      "\n",
      "\n",
      "Group pre-OPCs:\n",
      "EGFR', 'CSMD1', 'DPP6', 'MAML2', 'SEZ6L', 'LRP1B', 'PTPRZ1', 'CTNNA2', 'SLC24A3', 'SERINC5', 'CADM2', 'NRXN1', 'GAS1', 'NOTCH2', 'CDH20', 'KIRREL3', 'SIK2', 'GALNT13', 'RORA', 'MALAT1', 'DLL3', 'NAV2', 'ERBB4', 'CTNND2', 'LRIG1\n",
      "\n",
      "\n"
     ]
    },
    {
     "name": "stderr",
     "output_type": "stream",
     "text": [
      "/hpc/hers_basak/rnaseq_data/Silettilab/icoratella/miniconda3/lib/python3.11/site-packages/sklearn/linear_model/_logistic.py:469: ConvergenceWarning: lbfgs failed to converge (status=1):\n",
      "STOP: TOTAL NO. of ITERATIONS REACHED LIMIT.\n",
      "\n",
      "Increase the number of iterations (max_iter) or scale the data as shown in:\n",
      "    https://scikit-learn.org/stable/modules/preprocessing.html\n",
      "Please also refer to the documentation for alternative solver options:\n",
      "    https://scikit-learn.org/stable/modules/linear_model.html#logistic-regression\n",
      "  n_iter_i = _check_optimize_result(\n"
     ]
    }
   ],
   "source": [
    "sc.tl.rank_genes_groups(adata, \"ThirdManualAnnotations\", method=\"logreg\")\n",
    "for group in adata.uns['rank_genes_groups']['names'].dtype.names:\n",
    "    genes = adata.uns['rank_genes_groups']['names'][group][:25]\n",
    "    print(f\"Group {group}:\")\n",
    "    print(\"', '\".join(genes))\n",
    "    print(\"\\n\")"
   ]
  },
  {
   "cell_type": "markdown",
   "id": "4f68170d-12ca-4048-a5c8-afa62d986786",
   "metadata": {},
   "source": [
    "#### I also performed a filtering analysis on the previous DEA to see more specific markers."
   ]
  },
  {
   "cell_type": "code",
   "execution_count": 7,
   "id": "d484bf21-f981-4123-b059-a8756478e3f3",
   "metadata": {},
   "outputs": [],
   "source": [
    "sc.tl.filter_rank_genes_groups(adata,  max_out_group_fraction=0.5)\n",
    "filtered_genes = {}\n",
    "for group in adata.uns['rank_genes_groups_filtered']['names'].dtype.names:\n",
    "    genes = adata.uns['rank_genes_groups_filtered']['names'][group]\n",
    "    filtered_gene_list = [gene for gene in genes if pd.notnull(gene)]\n",
    "    filtered_genes[group] = filtered_gene_list[:25]"
   ]
  },
  {
   "cell_type": "markdown",
   "id": "ce85ca9d-d80d-49c5-abaf-587fe9b04e10",
   "metadata": {},
   "source": [
    "Overall, the markers for each class appear to be appropriate."
   ]
  },
  {
   "cell_type": "code",
   "execution_count": null,
   "id": "eb222315-c736-4859-9286-8e1a17c9f839",
   "metadata": {},
   "outputs": [],
   "source": []
  }
 ],
 "metadata": {
  "kernelspec": {
   "display_name": "Python 3 (ipykernel)",
   "language": "python",
   "name": "python3"
  },
  "language_info": {
   "codemirror_mode": {
    "name": "ipython",
    "version": 3
   },
   "file_extension": ".py",
   "mimetype": "text/x-python",
   "name": "python",
   "nbconvert_exporter": "python",
   "pygments_lexer": "ipython3",
   "version": "3.11.5"
  }
 },
 "nbformat": 4,
 "nbformat_minor": 5
}
