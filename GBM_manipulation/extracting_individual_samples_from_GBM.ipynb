{
 "cells": [
  {
   "cell_type": "markdown",
   "id": "d7cc1536-657f-4171-adf0-4b711a14b956",
   "metadata": {},
   "source": [
    "# Extracting sample SL040 from the GBM test dataset\n",
    "In this notebook, I demonstrate how I extracted the sample SL040 from the full test dataset. This specific sample was then used for further analysis, including examining prediction results and performing clustering analysis on this individual sample."
   ]
  },
  {
   "cell_type": "code",
   "execution_count": 1,
   "id": "c1f8fde3-8ba6-4ef9-8fe0-f8cf7352e78b",
   "metadata": {},
   "outputs": [],
   "source": [
    "import scanpy as sc\n",
    "import numpy as np\n",
    "import pandas as pd\n",
    "import anndata as ad\n",
    "import re"
   ]
  },
  {
   "cell_type": "markdown",
   "id": "23f1c8b1-4ae6-4cf9-b02a-5fc2b10fb399",
   "metadata": {},
   "source": [
    "#### Run this if you want all the cells in the sample:\n",
    "**Note**: For consistency with the analyses presented in the report, I initially subset all cells labeled SL040, including healthy and tumor cells. However, this can also be done directly on the tumor cells."
   ]
  },
  {
   "cell_type": "code",
   "execution_count": 2,
   "id": "ba5ec265-8dc5-4313-ae4b-75e39502efcb",
   "metadata": {},
   "outputs": [],
   "source": [
    "test = sc.read_h5ad('/hpc/hers_basak/rnaseq_data/Silettilab/samples/GBM_202406.h5ad')"
   ]
  },
  {
   "cell_type": "markdown",
   "id": "afbcb328-147a-4cf4-8546-807df523b9a3",
   "metadata": {},
   "source": [
    "#### Run this if you only want tumor cells in the sample:"
   ]
  },
  {
   "cell_type": "code",
   "execution_count": 3,
   "id": "1d84dd8b-9f8c-4a35-ba4c-b5050ff9d710",
   "metadata": {},
   "outputs": [],
   "source": [
    "#test = sc.read_h5ad(\n",
    "#    '/hpc/hers_basak/rnaseq_data/Silettilab/proj/GBM/output/data/GBM_Tumor_Dissociation.h5ad')"
   ]
  },
  {
   "cell_type": "markdown",
   "id": "45f597ff-dd14-4dba-b90c-174b83ee9746",
   "metadata": {},
   "source": [
    "#### This code adds an additional column to the dataset to consolidate single tumors denoted by A, B, C, etc., into a single label. This is done to improve the clarity and visual presentation of the data.\n",
    "Specifically, the function:\n",
    "\n",
    "- **Removes the final letter if present, unless the suffix is '_ATAC' or '_nuclei'**.\n",
    "-  **If the suffix is '_ATAC' or '_nuclei', and there is a single letter before the underscore, it removes that letter**."
   ]
  },
  {
   "cell_type": "code",
   "execution_count": 4,
   "id": "bb47d970-7980-451d-9395-12d366928332",
   "metadata": {},
   "outputs": [],
   "source": [
    "def remove_trailing_letter(sample):\n",
    "    sample = re.sub(r'^([A-Za-z0-9]+)([A-Za-z])(_ATAC)$', r'\\1\\3', sample)\n",
    "    sample = re.sub(r'^([A-Za-z0-9]+)([A-Za-z])(_nuclei)$', r'\\1\\3', sample)\n",
    "    sample = re.sub(r'^([A-Za-z0-9]+)([A-Za-z])$', r'\\1', sample)\n",
    "    return sample\n",
    "test.obs['stackedSamples'] = test.obs['Sample'].apply(remove_trailing_letter)"
   ]
  },
  {
   "cell_type": "markdown",
   "id": "c2cc58f6-b0ae-43d2-a1c0-0cf958452e09",
   "metadata": {},
   "source": [
    "#### I subsetted and saved the samples I'm interested in. It's straightforward to save all of them using a simple loop."
   ]
  },
  {
   "cell_type": "code",
   "execution_count": 5,
   "id": "f00f297e-6cc8-4b2c-8fbb-8b05714b1a4b",
   "metadata": {},
   "outputs": [
    {
     "name": "stderr",
     "output_type": "stream",
     "text": [
      "/hpc/hers_basak/rnaseq_data/Silettilab/icoratella/miniconda3/lib/python3.11/site-packages/anndata/_core/anndata.py:1209: ImplicitModificationWarning: Trying to modify attribute `.obs` of view, initializing view as actual.\n",
      "  df[key] = c\n",
      "/hpc/hers_basak/rnaseq_data/Silettilab/icoratella/miniconda3/lib/python3.11/site-packages/anndata/_core/anndata.py:1209: ImplicitModificationWarning: Trying to modify attribute `.obs` of view, initializing view as actual.\n",
      "  df[key] = c\n"
     ]
    }
   ],
   "source": [
    "SL040 = test[test.obs['stackedSamples'] == 'SL040']\n",
    "KS414 = test[test.obs['stackedSamples'] == 'KS414']\n",
    "SL040.write_h5ad('/hpc/hers_basak/rnaseq_data/Silettilab/samples/final_useful_datasets/SL040_refined.h5ad')\n",
    "KS414.write_h5ad('/hpc/hers_basak/rnaseq_data/Silettilab/samples/final_useful_datasets/KS414_refined.h5ad')"
   ]
  },
  {
   "cell_type": "markdown",
   "id": "c7b5edf0-85af-4b1e-89a1-8f4d6304b989",
   "metadata": {},
   "source": [
    "#### Check if they were correctly saved"
   ]
  },
  {
   "cell_type": "code",
   "execution_count": 6,
   "id": "9a82bc41-b517-4398-a9cc-63cb17b5665a",
   "metadata": {},
   "outputs": [
    {
     "data": {
      "text/plain": [
       "AnnData object with n_obs × n_vars = 135482 × 59480\n",
       "    obs: 'Age', 'AneuploidMeta', 'Aneuploid_Manual', 'Aneuploid_expression', 'CellCycleFraction', 'Chemistry', 'Clones', 'ClonesAbberations', 'Clusters', 'ClustersProbability', 'ClustersSecondary', 'ClustersSecondaryProbability', 'Dissociation', 'Donor', 'DoubletFlag', 'DoubletScore', 'GBmapPredicted', 'ManualAnnotation', 'ManualAnnotationSample', 'ManualAnnotationSample_new', 'MitoFraction', 'NGenes', 'PrevClusters', 'Sample', 'SampleID', 'Sex', 'Tissue', 'TopLevelCluster', 'TopLevelCluster2', 'TotalUMIs', 'UnsplicedFraction', 'ValidCells', 'stackedSamples'\n",
       "    var: 'Chromosome', 'End', 'Gene', 'GeneNonzeros', 'GeneTotalUMIs', 'SelectedFeatures', 'Start', 'StdevExpression', 'ValidGenes'\n",
       "    obsm: 'Factors'"
      ]
     },
     "execution_count": 6,
     "metadata": {},
     "output_type": "execute_result"
    }
   ],
   "source": [
    "sc.read_h5ad('/hpc/hers_basak/rnaseq_data/Silettilab/samples/final_useful_datasets/SL040_refined.h5ad')"
   ]
  },
  {
   "cell_type": "code",
   "execution_count": 8,
   "id": "0dafa055-a89a-441d-abd6-eb7e3005c1bd",
   "metadata": {},
   "outputs": [
    {
     "data": {
      "text/plain": [
       "AnnData object with n_obs × n_vars = 6131 × 59480\n",
       "    obs: 'Age', 'AneuploidMeta', 'Aneuploid_Manual', 'Aneuploid_expression', 'CellCycleFraction', 'Chemistry', 'Clones', 'ClonesAbberations', 'Clusters', 'ClustersProbability', 'ClustersSecondary', 'ClustersSecondaryProbability', 'Dissociation', 'Donor', 'DoubletFlag', 'DoubletScore', 'GBmapPredicted', 'ManualAnnotation', 'ManualAnnotationSample', 'ManualAnnotationSample_new', 'MitoFraction', 'NGenes', 'PrevClusters', 'Sample', 'SampleID', 'Sex', 'Tissue', 'TopLevelCluster', 'TopLevelCluster2', 'TotalUMIs', 'UnsplicedFraction', 'ValidCells', 'stackedSamples'\n",
       "    var: 'Chromosome', 'End', 'Gene', 'GeneNonzeros', 'GeneTotalUMIs', 'SelectedFeatures', 'Start', 'StdevExpression', 'ValidGenes'\n",
       "    obsm: 'Factors'"
      ]
     },
     "execution_count": 8,
     "metadata": {},
     "output_type": "execute_result"
    }
   ],
   "source": [
    "sc.read_h5ad('/hpc/hers_basak/rnaseq_data/Silettilab/samples/final_useful_datasets/KS414_refined.h5ad')"
   ]
  },
  {
   "cell_type": "code",
   "execution_count": null,
   "id": "d14ba97d-b8d3-4824-a9ba-e9b2c3fe36ba",
   "metadata": {},
   "outputs": [],
   "source": []
  }
 ],
 "metadata": {
  "kernelspec": {
   "display_name": "Python 3 (ipykernel)",
   "language": "python",
   "name": "python3"
  },
  "language_info": {
   "codemirror_mode": {
    "name": "ipython",
    "version": 3
   },
   "file_extension": ".py",
   "mimetype": "text/x-python",
   "name": "python",
   "nbconvert_exporter": "python",
   "pygments_lexer": "ipython3",
   "version": "3.11.5"
  }
 },
 "nbformat": 4,
 "nbformat_minor": 5
}
