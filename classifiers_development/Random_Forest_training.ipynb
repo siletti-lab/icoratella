{
 "cells": [
  {
   "cell_type": "markdown",
   "id": "879121d1-db88-408f-bf11-6d5aaeb7b39d",
   "metadata": {},
   "source": [
    "# Training the Random Forest classifier using the developmental brain meta-atlas\n",
    "In this script, I trained the Random Forest classifier and saved the model to disk. This allows the model to be utilized for testing in `Random_Forest_testing.ipynb`."
   ]
  },
  {
   "cell_type": "code",
   "execution_count": 1,
   "id": "da216d3b-8553-40f9-84d1-e0367d76aa16",
   "metadata": {},
   "outputs": [],
   "source": [
    "import scanpy as sc\n",
    "import numpy as np\n",
    "import pandas as pd\n",
    "import anndata as ad\n",
    "\n",
    "from sklearn.model_selection import train_test_split\n",
    "import sklearn.preprocessing as pp\n",
    "from sklearn.ensemble import RandomForestClassifier\n",
    "import matplotlib.pyplot as plt\n",
    "from sklearn.preprocessing import StandardScaler\n",
    "import joblib\n",
    "from sklearn.metrics import classification_report\n",
    "import functools"
   ]
  },
  {
   "cell_type": "code",
   "execution_count": 2,
   "id": "e7270152-eed1-4be0-b40c-682f1f879137",
   "metadata": {},
   "outputs": [
    {
     "name": "stdout",
     "output_type": "stream",
     "text": [
      "-----\n",
      "anndata     0.10.8\n",
      "scanpy      1.10.1\n",
      "-----\n",
      "PIL                         10.2.0\n",
      "anyio                       NA\n",
      "arrow                       1.3.0\n",
      "asciitree                   NA\n",
      "asttokens                   NA\n",
      "astunparse                  1.6.3\n",
      "attr                        23.1.0\n",
      "attrs                       23.1.0\n",
      "babel                       2.11.0\n",
      "bottleneck                  1.3.7\n",
      "brotli                      1.0.9\n",
      "certifi                     2024.08.30\n",
      "cffi                        1.16.0\n",
      "charset_normalizer          2.0.4\n",
      "cloudpickle                 3.0.0\n",
      "colorama                    0.4.6\n",
      "comm                        0.2.1\n",
      "cycler                      0.10.0\n",
      "cython_runtime              NA\n",
      "dask                        2024.7.0\n",
      "dateutil                    2.8.2\n",
      "debugpy                     1.6.7\n",
      "decorator                   5.1.1\n",
      "defusedxml                  0.7.1\n",
      "executing                   0.8.3\n",
      "fastjsonschema              NA\n",
      "fqdn                        NA\n",
      "h5py                        3.9.0\n",
      "idna                        3.4\n",
      "igraph                      0.11.4\n",
      "ipykernel                   6.28.0\n",
      "isoduration                 NA\n",
      "jedi                        0.18.1\n",
      "jinja2                      3.1.3\n",
      "joblib                      1.2.0\n",
      "json5                       NA\n",
      "jsonpointer                 2.1\n",
      "jsonschema                  4.19.2\n",
      "jsonschema_specifications   NA\n",
      "jupyter_events              0.8.0\n",
      "jupyter_server              2.10.0\n",
      "jupyterlab_server           2.25.1\n",
      "kiwisolver                  1.4.4\n",
      "legacy_api_wrap             NA\n",
      "leidenalg                   0.10.2\n",
      "llvmlite                    0.42.0\n",
      "markupsafe                  2.1.3\n",
      "matplotlib                  3.8.0\n",
      "mpl_toolkits                NA\n",
      "msgpack                     1.1.0\n",
      "natsort                     7.1.1\n",
      "nbformat                    5.9.2\n",
      "numba                       0.59.0\n",
      "numcodecs                   0.13.0\n",
      "numexpr                     2.8.7\n",
      "numpy                       1.26.4\n",
      "optree                      0.11.0\n",
      "overrides                   NA\n",
      "packaging                   23.2\n",
      "pandas                      2.2.1\n",
      "parso                       0.8.3\n",
      "pexpect                     4.8.0\n",
      "pkg_resources               NA\n",
      "platformdirs                3.10.0\n",
      "prometheus_client           NA\n",
      "prompt_toolkit              3.0.43\n",
      "psutil                      5.9.0\n",
      "ptyprocess                  0.7.0\n",
      "pure_eval                   0.2.2\n",
      "pyarrow                     14.0.2\n",
      "pydev_ipython               NA\n",
      "pydevconsole                NA\n",
      "pydevd                      2.9.5\n",
      "pydevd_file_utils           NA\n",
      "pydevd_plugins              NA\n",
      "pydevd_tracing              NA\n",
      "pygments                    2.15.1\n",
      "pyparsing                   3.0.9\n",
      "pythonjsonlogger            NA\n",
      "pytz                        2023.3.post1\n",
      "referencing                 NA\n",
      "requests                    2.31.0\n",
      "rfc3339_validator           0.1.4\n",
      "rfc3986_validator           0.1.1\n",
      "rpds                        NA\n",
      "ruamel                      NA\n",
      "scipy                       1.12.0\n",
      "send2trash                  NA\n",
      "session_info                1.0.0\n",
      "setuptools                  68.2.2\n",
      "six                         1.16.0\n",
      "sklearn                     1.5.1\n",
      "sniffio                     1.3.0\n",
      "socks                       1.7.1\n",
      "sparse                      0.15.4\n",
      "stack_data                  0.2.0\n",
      "tblib                       3.0.0\n",
      "texttable                   1.7.0\n",
      "threadpoolctl               3.5.0\n",
      "tlz                         0.12.1\n",
      "toolz                       0.12.1\n",
      "torch                       2.4.1+cu121\n",
      "torchgen                    NA\n",
      "tornado                     6.3.3\n",
      "tqdm                        4.65.0\n",
      "traitlets                   5.7.1\n",
      "typing_extensions           NA\n",
      "uri_template                NA\n",
      "urllib3                     2.1.0\n",
      "wcwidth                     0.2.5\n",
      "webcolors                   24.8.0\n",
      "websocket                   0.58.0\n",
      "yaml                        6.0.1\n",
      "zarr                        2.18.3\n",
      "zipp                        NA\n",
      "zmq                         25.1.2\n",
      "zstandard                   0.19.0\n",
      "-----\n",
      "IPython             8.20.0\n",
      "jupyter_client      8.6.0\n",
      "jupyter_core        5.5.0\n",
      "jupyterlab          4.0.11\n",
      "notebook            7.0.8\n",
      "-----\n",
      "Python 3.11.5 (main, Sep 11 2023, 13:54:46) [GCC 11.2.0]\n",
      "Linux-4.18.0-553.30.1.el8_10.x86_64-x86_64-with-glibc2.28\n",
      "-----\n",
      "Session information updated at 2025-02-08 11:23\n"
     ]
    }
   ],
   "source": [
    "sc.logging.print_versions()\n",
    "sc.set_figure_params(facecolor=\"white\", figsize=(7, 4))\n",
    "sc.settings.verbosity = 3"
   ]
  },
  {
   "cell_type": "markdown",
   "id": "8e9bbadb-648b-4eb3-b2cf-84ceddc23aba",
   "metadata": {},
   "source": [
    "#### I imported the training dataset and created a duplicate variable. The first variable, `train`, will be used for feature selection, while the second, `trainraw`, will be designated for actual training. This dataset was generated in the notebook titled `fron_no_adolescence_to_final_training_dataset.ipynb`."
   ]
  },
  {
   "cell_type": "code",
   "execution_count": 3,
   "id": "0fadd403-7acb-45db-b233-c553d54a36b7",
   "metadata": {},
   "outputs": [],
   "source": [
    "train = sc.read_h5ad(\n",
    "    '/hpc/hers_basak/rnaseq_data/Silettilab/icoratella/final_useful_datasets/noAdolescence_nocc_noclusters_ThirdManualAnnotations_Interneurons.h5ad')\n",
    "trainraw = train.copy()"
   ]
  },
  {
   "cell_type": "markdown",
   "id": "2bd9d8f6-091a-44f4-afc3-d3f3cbb12ee6",
   "metadata": {},
   "source": [
    "#### I imported the test dataset to ensure only the genes common to both datasets are selected, preventing errors during processing."
   ]
  },
  {
   "cell_type": "code",
   "execution_count": 5,
   "id": "af782116-8515-41fd-ae1f-b1f8da040054",
   "metadata": {},
   "outputs": [],
   "source": [
    "test = sc.read_h5ad(\n",
    "    '/hpc/hers_basak/rnaseq_data/Silettilab/proj/GBM/output/data/GBM_Tumor_Dissociation.h5ad')"
   ]
  },
  {
   "cell_type": "markdown",
   "id": "24cdbde6-6aa5-4acf-a90b-cd79d255440d",
   "metadata": {},
   "source": [
    "## Step 1: Initial adjustments."
   ]
  },
  {
   "cell_type": "markdown",
   "id": "8a85acf2-50e3-48b2-894f-e8ee55010159",
   "metadata": {},
   "source": [
    "#### I changed the index of `test.var` from ensemble IDs to gene names."
   ]
  },
  {
   "cell_type": "code",
   "execution_count": 6,
   "id": "615ff25b-89e0-4b71-a341-3493a2345932",
   "metadata": {},
   "outputs": [
    {
     "name": "stderr",
     "output_type": "stream",
     "text": [
      "/hpc/hers_basak/rnaseq_data/Silettilab/icoratella/miniconda3/lib/python3.11/site-packages/anndata/_core/anndata.py:767: UserWarning: \n",
      "AnnData expects .var.index to contain strings, but got values like:\n",
      "    ['marker-DsRed', 'marker-Cherry', 'marker-GFP', 'marker-Tomato', 'marker-cre']\n",
      "\n",
      "    Inferred to be: categorical\n",
      "\n",
      "  value_idx = self._prep_dim_index(value.index, attr)\n"
     ]
    }
   ],
   "source": [
    "test.var = (\n",
    "    test.var\n",
    "    .reset_index()                      \n",
    "    .rename(columns={'index': 'ensemble_ids'})  \n",
    "    .set_index('Gene')                  \n",
    ")"
   ]
  },
  {
   "cell_type": "markdown",
   "id": "18008f14-10b9-45ed-b13b-cea33c6271ec",
   "metadata": {},
   "source": [
    "#### I made unique test names."
   ]
  },
  {
   "cell_type": "code",
   "execution_count": 7,
   "id": "061868a0-0345-4ac2-a77c-d7d1356b8615",
   "metadata": {},
   "outputs": [],
   "source": [
    "test.var.index = test.var.index.astype(str)\n",
    "test.var_names_make_unique(join=\"_\")"
   ]
  },
  {
   "cell_type": "markdown",
   "id": "660f2a06-2acb-4988-aff5-f79e727992d3",
   "metadata": {},
   "source": [
    "#### I randomly selected 5000 cells for cell class to ensure a more balanced representation across all classes."
   ]
  },
  {
   "cell_type": "code",
   "execution_count": 8,
   "id": "50f69166-4fd1-4f94-837c-388b350bb097",
   "metadata": {},
   "outputs": [],
   "source": [
    "cell_counts = train.obs['ThirdManualAnnotations'].value_counts()\n",
    "allsampledindices = []\n",
    "\n",
    "for cell_class, count in cell_counts.items():\n",
    "    cells_of_class = train.obs[train.obs['ThirdManualAnnotations'] == cell_class]\n",
    "\n",
    "    sampled_cells = cells_of_class.sample(n=min(count, 5000), replace=False, random_state = 42)\n",
    "    allsampledindices.append(sampled_cells.index)\n",
    "\n",
    "allsampledindices = np.hstack(allsampledindices)\n",
    "train = train[allsampledindices]\n",
    "trainraw = trainraw[allsampledindices]"
   ]
  },
  {
   "cell_type": "markdown",
   "id": "5c8c84ba-93ef-4dda-9a8c-a6a6305a8522",
   "metadata": {},
   "source": [
    "## Step 2: Feature selection."
   ]
  },
  {
   "cell_type": "markdown",
   "id": "646d17f5-d276-45e2-b6b2-f6f73944e2ef",
   "metadata": {},
   "source": [
    "#### I removed cell cycling genes."
   ]
  },
  {
   "cell_type": "code",
   "execution_count": 9,
   "id": "a05e0939-4a1a-450a-b1ff-ec783d46af2a",
   "metadata": {},
   "outputs": [],
   "source": [
    "ccGenesHuman = np.loadtxt('/hpc/hers_basak/rnaseq_data/Silettilab/icoratella/models/ccGenesHuman.txt', dtype=str)\n",
    "train = train[:, ~np.isin(train.var_names, ccGenesHuman)]"
   ]
  },
  {
   "cell_type": "code",
   "execution_count": 10,
   "id": "f3ea0cf1-a63b-47b6-abe0-37992d0f86ee",
   "metadata": {},
   "outputs": [],
   "source": [
    "cc2 = ['CCND2', 'TFDP2']\n",
    "train = train[:, ~np.isin(train.var_names, cc2)]"
   ]
  },
  {
   "cell_type": "markdown",
   "id": "005eea48-5029-47bd-bade-a9b4f9e3fd00",
   "metadata": {},
   "source": [
    "#### I excluded mitochondrial, ribosomal, and tubulin genes, as well as MALAT1 and EGFR from the analysis because their overexpression in tumors could bias the classification results."
   ]
  },
  {
   "cell_type": "code",
   "execution_count": 11,
   "id": "03e73b29-2416-4028-9415-0185a616cf25",
   "metadata": {},
   "outputs": [
    {
     "data": {
      "text/plain": [
       "15778"
      ]
     },
     "execution_count": 11,
     "metadata": {},
     "output_type": "execute_result"
    }
   ],
   "source": [
    "badGenes = [el for el in train.var_names \n",
    "            if el.startswith(('MT-', 'RP', 'TUB')) or el in {'MALAT1', 'EGFR'}]\n",
    "\n",
    "train = train[:, ~np.isin(train.var_names, badGenes)]\n",
    "len(train.var_names)"
   ]
  },
  {
   "cell_type": "markdown",
   "id": "5554ef00-9987-46d8-aae4-2bd6525612dd",
   "metadata": {},
   "source": [
    "#### I retained only the genes that are common to both the training and test datasets."
   ]
  },
  {
   "cell_type": "code",
   "execution_count": 12,
   "id": "2d8cf3e3-d885-490e-828a-29248fe2761f",
   "metadata": {},
   "outputs": [],
   "source": [
    "commonGenes = np.intersect1d(train.var_names, test.var_names)\n",
    "train, test, trainraw = [ds[:, commonGenes] for ds in (train, test, trainraw)]"
   ]
  },
  {
   "cell_type": "markdown",
   "id": "4caabdb9-da10-4a57-bd97-c353a99e5798",
   "metadata": {},
   "source": [
    "#### I normalized and logarithmized the dataset."
   ]
  },
  {
   "cell_type": "code",
   "execution_count": 13,
   "id": "a5641ccf-d234-40c2-8b4d-40e6ed298db4",
   "metadata": {},
   "outputs": [
    {
     "name": "stderr",
     "output_type": "stream",
     "text": [
      "/hpc/hers_basak/rnaseq_data/Silettilab/icoratella/miniconda3/lib/python3.11/site-packages/scanpy/preprocessing/_normalization.py:206: UserWarning: Received a view of an AnnData. Making a copy.\n",
      "  view_to_actual(adata)\n"
     ]
    },
    {
     "name": "stdout",
     "output_type": "stream",
     "text": [
      "normalizing counts per cell\n",
      "    finished (0:00:05)\n"
     ]
    }
   ],
   "source": [
    "sc.pp.normalize_total(train, target_sum=1e4)\n",
    "sc.pp.log1p(train)"
   ]
  },
  {
   "cell_type": "markdown",
   "id": "25f213fc-5d66-4ed6-89c4-4f46d815907b",
   "metadata": {},
   "source": [
    "#### I selected only the first 4000 most variable genes."
   ]
  },
  {
   "cell_type": "code",
   "execution_count": 14,
   "id": "1aeafa30-d34b-4001-9455-a0edec56e818",
   "metadata": {},
   "outputs": [
    {
     "name": "stdout",
     "output_type": "stream",
     "text": [
      "extracting highly variable genes\n",
      "    finished (0:00:03)\n",
      "--> added\n",
      "    'highly_variable', boolean vector (adata.var)\n",
      "    'means', float vector (adata.var)\n",
      "    'dispersions', float vector (adata.var)\n",
      "    'dispersions_norm', float vector (adata.var)\n"
     ]
    }
   ],
   "source": [
    "sc.pp.highly_variable_genes(train, min_mean=0.0125, max_mean=3, min_disp=0.5, n_top_genes=4000)\n",
    "train = train[:, train.var.highly_variable]"
   ]
  },
  {
   "cell_type": "markdown",
   "id": "f48dea72-c820-4b62-b451-b2a990ed0b10",
   "metadata": {},
   "source": [
    "#### I conducted a differential expression analysis followed by a filtering step to identify the most significant genes.\n"
   ]
  },
  {
   "cell_type": "code",
   "execution_count": 15,
   "id": "7d6b380a-54fe-4e44-8ebd-cd638f57c1ef",
   "metadata": {},
   "outputs": [
    {
     "name": "stdout",
     "output_type": "stream",
     "text": [
      "ranking genes\n"
     ]
    },
    {
     "name": "stderr",
     "output_type": "stream",
     "text": [
      "/hpc/hers_basak/rnaseq_data/Silettilab/icoratella/miniconda3/lib/python3.11/site-packages/scanpy/tools/_rank_genes_groups.py:640: ImplicitModificationWarning: Trying to modify attribute `._uns` of view, initializing view as actual.\n",
      "  adata.uns[key_added] = {}\n"
     ]
    },
    {
     "name": "stdout",
     "output_type": "stream",
     "text": [
      "    finished: added to `.uns['rank_genes_groups']`\n",
      "    'names', sorted np.recarray to be indexed by group ids\n",
      "    'scores', sorted np.recarray to be indexed by group ids\n",
      " (0:00:25)\n",
      "Filtering genes using: min_in_group_fraction: 0.25 min_fold_change: 1, max_out_group_fraction: 0.2\n"
     ]
    },
    {
     "name": "stderr",
     "output_type": "stream",
     "text": [
      "/hpc/hers_basak/rnaseq_data/Silettilab/icoratella/miniconda3/lib/python3.11/site-packages/sklearn/linear_model/_logistic.py:469: ConvergenceWarning: lbfgs failed to converge (status=1):\n",
      "STOP: TOTAL NO. of ITERATIONS REACHED LIMIT.\n",
      "\n",
      "Increase the number of iterations (max_iter) or scale the data as shown in:\n",
      "    https://scikit-learn.org/stable/modules/preprocessing.html\n",
      "Please also refer to the documentation for alternative solver options:\n",
      "    https://scikit-learn.org/stable/modules/linear_model.html#logistic-regression\n",
      "  n_iter_i = _check_optimize_result(\n"
     ]
    }
   ],
   "source": [
    "sc.tl.rank_genes_groups(train, groupby=\"ThirdManualAnnotations\",method= 'logreg', use_raw=False)\n",
    "sc.tl.filter_rank_genes_groups(train, max_out_group_fraction=0.2)"
   ]
  },
  {
   "cell_type": "markdown",
   "id": "dff394d7-f16e-4313-8a4d-51f2ef69d93d",
   "metadata": {},
   "source": [
    "\n",
    "#### I identified the 25 most expressed and specific genes for each class, excluding NaN values."
   ]
  },
  {
   "cell_type": "code",
   "execution_count": 16,
   "id": "1efa9bd0-c9ea-4a8e-a41b-6d433f2cead1",
   "metadata": {},
   "outputs": [],
   "source": [
    "filtered_genes = {}\n",
    "for group in train.uns['rank_genes_groups_filtered']['names'].dtype.names:\n",
    "    genes = train.uns['rank_genes_groups_filtered']['names'][group]\n",
    "    filtered_gene_list = [gene for gene in genes if pd.notnull(gene)]\n",
    "    filtered_genes[group] = filtered_gene_list[:25]\n",
    "    filtered_genes\n",
    "filtered_genes = list(set([item for sublist in filtered_genes.values() for item in sublist]))"
   ]
  },
  {
   "cell_type": "markdown",
   "id": "6500381e-ccb4-401d-b966-38a20b812886",
   "metadata": {},
   "source": [
    "#### I imported some manually selected genes."
   ]
  },
  {
   "cell_type": "code",
   "execution_count": 17,
   "id": "d8903720-f411-48ca-a2d6-788ebc623790",
   "metadata": {},
   "outputs": [],
   "source": [
    "aleGenes = ['AQP4','ADGRV1','MGST1','SPARCL1','ID3','CST3','BCAN', 'VEGFA','LGALS1','LGALS3', 'ETV1','PTPRZ1','ITM2C','HOPX','VIM','CLU', \n",
    "            'CDK4','SOX2','STMN1','STMN2', 'ASCL1','HES1','NHLH1','NRXN3','RBP1', 'PLP1', 'OLIG1','OLIG2','SOX10','PDGFRA', 'ACTA2','FN1','CLDN5',\n",
    "            'VXN','VWF','ITM2A', 'COL1A1','COL3A1','COL4A1', 'IGHM','IGKC', 'CD3G','CD3D','CD3E','TRAC', 'CD4', 'CD8A','GZMH','GZMK','GNLY','CD74',\n",
    "            'FTL','SPP1','C1QA','C1QB','C1QC','CSF1R', 'HLA-DRA','HLA-DQB1','FOXM1','TYMS']"
   ]
  },
  {
   "cell_type": "code",
   "execution_count": 18,
   "id": "f6b0be19-c54b-4ab6-a9c9-e7d8e79c9e5f",
   "metadata": {},
   "outputs": [],
   "source": [
    "myGenes = [\n",
    "    'LIX1', 'LEF1', 'HEY1', 'CRABP2', 'AMBN', 'TPD52L1', 'SNCG', 'ECEL1', 'CNFN', 'OLFM3',\n",
    "    'CST3', 'TC', 'ATP1A2', 'SPARCL1', 'APOE', 'NEAT1', 'AQP4', 'SLC4A4', 'GLIS3', 'GRM3',\n",
    "    'TNC', 'MGAT4C', 'LRIG1', 'GJA1', 'ACSL6', 'NPNT', 'PAQR8', 'COL5A3', 'FRMPD2',\n",
    "    'CD44', 'GALNT15', 'CD38', 'DAAM2', 'ANGPT1', 'COLEC12', 'AQP1', 'HSPB8',\n",
    "    'PCDH15', 'OPCML', 'CSMD3', 'CA10', 'FGF14', 'NXPH1', 'TNR', 'FGF12', 'MDGA2',\n",
    "    'DNM3', 'CNTNAP5', 'NRXN3', 'SGCZ', 'COL20A1', 'CHRM3', 'PDGFRA', 'AFAP1L2', 'APOD',\n",
    "    'PDGFD', 'LIPG', 'IQGAP2', 'AKAP12', 'NIPY', 'TMTC1', 'FBXO32', 'EVA1C', 'LAMA3',\n",
    "    'CCDC175', 'ELAVL2', 'SRRM4', 'HES6', 'PLXNA2', 'EOMES', 'EPHA3', 'NHLH1', 'GADD45G',\n",
    "    'MYT1L', 'RBFOX3', 'ELAVL4', 'SLC22A23', 'PGP13', 'KCNB2', 'NEUROG1', 'MFNG',\n",
    "    'MYCL', 'RGS16', 'CREG2', 'GREM2', 'EBF2', 'NHLH2', 'LHX9', 'SPINK5', 'FNDC5',\n",
    "    'EBF1', 'NRN1', 'CLMP', 'SLA', 'PPP1R17', 'SL17A6', 'NEUROD2', 'NEUROD6',\n",
    "    'LGR6', 'VAV3', 'ADCY1', 'RGS6', 'KLHL4', 'GAD1', 'ATP2C2', 'GALR1', 'DBX2',\n",
    "    'SLC6A11', 'ST8SIA5', 'CCDC80', 'MATN2', 'CAPS2',\n",
    "    'DLL3', 'ASCL1', 'CCDC178', 'GSG1L', 'RFTN1', 'IGSF9B', 'ANGEL1', 'CASP9',\n",
    "    'KIRREL3', 'DPF3', 'SLIT1', 'IRX1', 'VIPR2', 'DLX6', 'DLX6-AS1', 'DLX5', 'GAD1', 'GAD2', 'GAD45G'\n",
    "]"
   ]
  },
  {
   "cell_type": "markdown",
   "id": "265372b2-515d-492b-b6bd-5b08cba51e6c",
   "metadata": {},
   "source": [
    "#### I combined the genes filtered through differential expression analysis with those manually selected."
   ]
  },
  {
   "cell_type": "code",
   "execution_count": 19,
   "id": "35b0b68d-3e0e-4c3e-b786-d41a420516d4",
   "metadata": {},
   "outputs": [],
   "source": [
    "selectedGenes = np.unique(np.concatenate((aleGenes, filtered_genes, myGenes)))"
   ]
  },
  {
   "cell_type": "code",
   "execution_count": 20,
   "id": "e40a67a8-390d-46f1-bf46-95fd23b3c81e",
   "metadata": {},
   "outputs": [],
   "source": [
    "selectedGenes = functools.reduce(np.intersect1d, (selectedGenes, trainraw.var_names, test.var_names))\n",
    "trainraw = trainraw[:, selectedGenes]"
   ]
  },
  {
   "cell_type": "markdown",
   "id": "1c992751-635a-4c56-8643-75d26e60d4b7",
   "metadata": {},
   "source": [
    "#### I archived the selected genes for use in the `Random_Forest_testing.ipynb` notebook."
   ]
  },
  {
   "cell_type": "code",
   "execution_count": 21,
   "id": "47b49fea-d6f2-4a75-9fcb-85e130a83e4f",
   "metadata": {},
   "outputs": [],
   "source": [
    "np.savetxt('/hpc/hers_basak/rnaseq_data/Silettilab/icoratella/final_useful_datasets/RF_selected_genes.txt', selectedGenes, delimiter=\",\", fmt='%s')"
   ]
  },
  {
   "cell_type": "markdown",
   "id": "93268395-9390-4069-8f58-5d8b742bdc8c",
   "metadata": {},
   "source": [
    "## Step 3: training of the model on `trainraw`."
   ]
  },
  {
   "cell_type": "markdown",
   "id": "1293f0d0-f517-4295-b0d9-5fa1423c4f4e",
   "metadata": {},
   "source": [
    "#### Normalization by row"
   ]
  },
  {
   "cell_type": "code",
   "execution_count": 22,
   "id": "6d40fbe6-2bbe-4e60-b53d-9808dee4d4f3",
   "metadata": {},
   "outputs": [
    {
     "name": "stderr",
     "output_type": "stream",
     "text": [
      "/hpc/hers_basak/rnaseq_data/Silettilab/icoratella/miniconda3/lib/python3.11/site-packages/scanpy/preprocessing/_normalization.py:206: UserWarning: Received a view of an AnnData. Making a copy.\n",
      "  view_to_actual(adata)\n"
     ]
    },
    {
     "name": "stdout",
     "output_type": "stream",
     "text": [
      "normalizing counts per cell\n",
      "    finished (0:00:00)\n"
     ]
    }
   ],
   "source": [
    "sc.pp.normalize_total(trainraw, target_sum=1e4)"
   ]
  },
  {
   "cell_type": "markdown",
   "id": "12ecd4c0-9b15-40f1-9012-96fa4a2340c0",
   "metadata": {},
   "source": [
    "#### I extracted only the data corresponding to the selected genes and their labels into numpy arrays."
   ]
  },
  {
   "cell_type": "code",
   "execution_count": 23,
   "id": "864109ed-4eff-41ff-90e6-48495e2d464d",
   "metadata": {},
   "outputs": [],
   "source": [
    "training = trainraw.X.A.copy()\n",
    "training = np.hstack([training[:, trainraw.var.index == g] for g in selectedGenes])\n",
    "y = trainraw.obs['ThirdManualAnnotations'].to_numpy()"
   ]
  },
  {
   "cell_type": "markdown",
   "id": "e45997c7-8c08-45c4-ad79-bfc42a5cd422",
   "metadata": {},
   "source": [
    "\n",
    "#### The training process involved:\r\n",
    "- **Logarithmization**: I applied `log1p` for normalization, omitting the \"+1\" as it is unnecessary with this technique.\r\n",
    "- **Scaling by column**\r\n",
    "- **Random Forest classifier**              "
   ]
  },
  {
   "cell_type": "code",
   "execution_count": 24,
   "id": "4f7ca4f5-07f8-4508-9c67-9fee9725bafb",
   "metadata": {},
   "outputs": [],
   "source": [
    "classifier = RandomForestClassifier(max_depth=40, min_samples_leaf=2, n_estimators= 400, class_weight='balanced', n_jobs=-1)\n",
    "scaler = StandardScaler()\n",
    "x_train, x_test, y_train, y_test = train_test_split( \n",
    "    scaler.fit_transform(np.log1p(training)),\n",
    "    y,\n",
    "    test_size=0.2\n",
    ")\n",
    "\n",
    "classifier.fit(x_train, y_train)\n",
    "predictionsSplit = classifier.predict(x_test)\n",
    "accuracySplit = classifier.score(x_test, y_test)"
   ]
  },
  {
   "cell_type": "code",
   "execution_count": 25,
   "id": "2a39918b-f8e6-473d-86f3-6bea7bf4189f",
   "metadata": {},
   "outputs": [
    {
     "data": {
      "text/plain": [
       "0.9089136490250697"
      ]
     },
     "execution_count": 25,
     "metadata": {},
     "output_type": "execute_result"
    }
   ],
   "source": [
    "accuracySplit"
   ]
  },
  {
   "cell_type": "markdown",
   "id": "1e3729ea-e978-4717-b80d-92433e691202",
   "metadata": {},
   "source": [
    "#### I printed some metrics to evaluate the classifier's performance."
   ]
  },
  {
   "cell_type": "code",
   "execution_count": 26,
   "id": "06371bdc-54ed-4107-889a-4f47953484be",
   "metadata": {},
   "outputs": [
    {
     "name": "stdout",
     "output_type": "stream",
     "text": [
      "                   precision    recall  f1-score   support\n",
      "\n",
      "       Astrocytes       0.93      0.94      0.93      1018\n",
      "             OPCs       0.98      0.98      0.98       969\n",
      "Subcortical nIPCs       0.97      0.91      0.94       976\n",
      "early Radial Glia       0.88      0.93      0.91       966\n",
      " late Radial Glia       0.89      0.87      0.88       991\n",
      "            nIPCs       0.89      0.94      0.92      1050\n",
      "   pre-Astrocytes       0.83      0.86      0.84       720\n",
      "         pre-OPCs       0.84      0.75      0.79       490\n",
      "\n",
      "         accuracy                           0.91      7180\n",
      "        macro avg       0.90      0.90      0.90      7180\n",
      "     weighted avg       0.91      0.91      0.91      7180\n",
      "\n"
     ]
    }
   ],
   "source": [
    "report = classification_report(y_test, predictionsSplit, target_names=np.unique(y))\n",
    "print(report)\n"
   ]
  },
  {
   "cell_type": "markdown",
   "id": "2ee0e477-3627-4d4e-bbfc-f4ce072d6a16",
   "metadata": {},
   "source": [
    "#### I saved the model to avoid re-computation in subsequent runs."
   ]
  },
  {
   "cell_type": "code",
   "execution_count": 27,
   "id": "4b786dcf-7550-41f3-aa25-151a09e88c14",
   "metadata": {},
   "outputs": [
    {
     "data": {
      "text/plain": [
       "['/hpc/hers_basak/rnaseq_data/Silettilab/icoratella/final_useful_datasets/models/RF_x_test.joblib']"
      ]
     },
     "execution_count": 27,
     "metadata": {},
     "output_type": "execute_result"
    }
   ],
   "source": [
    "joblib.dump(scaler, '/hpc/hers_basak/rnaseq_data/Silettilab/icoratella/final_useful_datasets/models/RF_scaler.joblib')\n",
    "joblib.dump(classifier, '/hpc/hers_basak/rnaseq_data/Silettilab/icoratella/final_useful_datasets/models/RF.joblib')\n",
    "\n",
    "joblib.dump(y_train, '/hpc/hers_basak/rnaseq_data/Silettilab/icoratella/final_useful_datasets/models/RF_y_train.joblib')\n",
    "joblib.dump(y_test, '/hpc/hers_basak/rnaseq_data/Silettilab/icoratella/final_useful_datasets/models/RF_y_test.joblib')\n",
    "\n",
    "joblib.dump(x_train, '/hpc/hers_basak/rnaseq_data/Silettilab/icoratella/final_useful_datasets/models/RF_x_train.joblib')\n",
    "joblib.dump(x_test, '/hpc/hers_basak/rnaseq_data/Silettilab/icoratella/final_useful_datasets/models/RF_x_test.joblib')\n"
   ]
  },
  {
   "cell_type": "code",
   "execution_count": null,
   "id": "1f6cb25a-abe8-431c-a988-15222d6a3db3",
   "metadata": {},
   "outputs": [],
   "source": []
  },
  {
   "cell_type": "code",
   "execution_count": null,
   "id": "ec179f97-f613-4b3c-bac5-5323d3cef425",
   "metadata": {},
   "outputs": [],
   "source": []
  }
 ],
 "metadata": {
  "kernelspec": {
   "display_name": "Python 3 (ipykernel)",
   "language": "python",
   "name": "python3"
  },
  "language_info": {
   "codemirror_mode": {
    "name": "ipython",
    "version": 3
   },
   "file_extension": ".py",
   "mimetype": "text/x-python",
   "name": "python",
   "nbconvert_exporter": "python",
   "pygments_lexer": "ipython3",
   "version": "3.11.5"
  }
 },
 "nbformat": 4,
 "nbformat_minor": 5
}
