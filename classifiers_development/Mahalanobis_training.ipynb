{
 "cells": [
  {
   "cell_type": "markdown",
   "id": "9274dd8c-16dd-4ab7-be19-07dcff4f7f0d",
   "metadata": {},
   "source": [
    "# Training the Random Forest classifier using the developmental brain meta-atlas\n",
    "In this script, I trained the Mahalanobis distance-based classifier and saved the model to disk. This allows the model to be utilized for testing in `Mahalanobis_testing.ipynb`."
   ]
  },
  {
   "cell_type": "code",
   "execution_count": 1,
   "id": "93a66f9b-649a-484a-8b6d-b6df9efd74c5",
   "metadata": {},
   "outputs": [],
   "source": [
    "import scanpy as sc\n",
    "import numpy as np\n",
    "import pandas as pd\n",
    "import anndata as ad\n",
    "\n",
    "from scipy.spatial.distance import mahalanobis\n",
    "import scipy.sparse as sp\n",
    "import numpy.linalg as linalg\n",
    "from scipy.sparse import csr_matrix\n",
    "from sklearn.preprocessing import StandardScaler, Binarizer\n",
    "from sklearn.decomposition import PCA\n",
    "import joblib\n",
    "import functools"
   ]
  },
  {
   "cell_type": "code",
   "execution_count": 2,
   "id": "bcc192a1-f472-4a56-b23f-8be291652876",
   "metadata": {},
   "outputs": [
    {
     "name": "stdout",
     "output_type": "stream",
     "text": [
      "-----\n",
      "anndata     0.10.8\n",
      "scanpy      1.10.1\n",
      "-----\n",
      "PIL                         10.2.0\n",
      "anyio                       NA\n",
      "arrow                       1.3.0\n",
      "asciitree                   NA\n",
      "asttokens                   NA\n",
      "astunparse                  1.6.3\n",
      "attr                        23.1.0\n",
      "attrs                       23.1.0\n",
      "babel                       2.11.0\n",
      "bottleneck                  1.3.7\n",
      "brotli                      1.0.9\n",
      "certifi                     2024.08.30\n",
      "cffi                        1.16.0\n",
      "charset_normalizer          2.0.4\n",
      "cloudpickle                 3.0.0\n",
      "colorama                    0.4.6\n",
      "comm                        0.2.1\n",
      "cycler                      0.10.0\n",
      "cython_runtime              NA\n",
      "dask                        2024.7.0\n",
      "dateutil                    2.8.2\n",
      "debugpy                     1.6.7\n",
      "decorator                   5.1.1\n",
      "defusedxml                  0.7.1\n",
      "executing                   0.8.3\n",
      "fastjsonschema              NA\n",
      "fqdn                        NA\n",
      "h5py                        3.9.0\n",
      "idna                        3.4\n",
      "igraph                      0.11.4\n",
      "ipykernel                   6.28.0\n",
      "isoduration                 NA\n",
      "jedi                        0.18.1\n",
      "jinja2                      3.1.3\n",
      "joblib                      1.2.0\n",
      "json5                       NA\n",
      "jsonpointer                 2.1\n",
      "jsonschema                  4.19.2\n",
      "jsonschema_specifications   NA\n",
      "jupyter_events              0.8.0\n",
      "jupyter_server              2.10.0\n",
      "jupyterlab_server           2.25.1\n",
      "kiwisolver                  1.4.4\n",
      "legacy_api_wrap             NA\n",
      "leidenalg                   0.10.2\n",
      "llvmlite                    0.42.0\n",
      "markupsafe                  2.1.3\n",
      "matplotlib                  3.8.0\n",
      "mpl_toolkits                NA\n",
      "msgpack                     1.1.0\n",
      "natsort                     7.1.1\n",
      "nbformat                    5.9.2\n",
      "numba                       0.59.0\n",
      "numcodecs                   0.13.0\n",
      "numexpr                     2.8.7\n",
      "numpy                       1.26.4\n",
      "optree                      0.11.0\n",
      "overrides                   NA\n",
      "packaging                   23.2\n",
      "pandas                      2.2.1\n",
      "parso                       0.8.3\n",
      "pexpect                     4.8.0\n",
      "pkg_resources               NA\n",
      "platformdirs                3.10.0\n",
      "prometheus_client           NA\n",
      "prompt_toolkit              3.0.43\n",
      "psutil                      5.9.0\n",
      "ptyprocess                  0.7.0\n",
      "pure_eval                   0.2.2\n",
      "pyarrow                     14.0.2\n",
      "pydev_ipython               NA\n",
      "pydevconsole                NA\n",
      "pydevd                      2.9.5\n",
      "pydevd_file_utils           NA\n",
      "pydevd_plugins              NA\n",
      "pydevd_tracing              NA\n",
      "pygments                    2.15.1\n",
      "pyparsing                   3.0.9\n",
      "pythonjsonlogger            NA\n",
      "pytz                        2023.3.post1\n",
      "referencing                 NA\n",
      "requests                    2.31.0\n",
      "rfc3339_validator           0.1.4\n",
      "rfc3986_validator           0.1.1\n",
      "rpds                        NA\n",
      "ruamel                      NA\n",
      "scipy                       1.12.0\n",
      "send2trash                  NA\n",
      "session_info                1.0.0\n",
      "setuptools                  68.2.2\n",
      "six                         1.16.0\n",
      "sklearn                     1.5.1\n",
      "sniffio                     1.3.0\n",
      "socks                       1.7.1\n",
      "sparse                      0.15.4\n",
      "stack_data                  0.2.0\n",
      "tblib                       3.0.0\n",
      "texttable                   1.7.0\n",
      "threadpoolctl               3.5.0\n",
      "tlz                         0.12.1\n",
      "toolz                       0.12.1\n",
      "torch                       2.4.1+cu121\n",
      "torchgen                    NA\n",
      "tornado                     6.3.3\n",
      "tqdm                        4.65.0\n",
      "traitlets                   5.7.1\n",
      "typing_extensions           NA\n",
      "uri_template                NA\n",
      "urllib3                     2.1.0\n",
      "wcwidth                     0.2.5\n",
      "webcolors                   24.8.0\n",
      "websocket                   0.58.0\n",
      "yaml                        6.0.1\n",
      "zarr                        2.18.3\n",
      "zipp                        NA\n",
      "zmq                         25.1.2\n",
      "zstandard                   0.19.0\n",
      "-----\n",
      "IPython             8.20.0\n",
      "jupyter_client      8.6.0\n",
      "jupyter_core        5.5.0\n",
      "jupyterlab          4.0.11\n",
      "notebook            7.0.8\n",
      "-----\n",
      "Python 3.11.5 (main, Sep 11 2023, 13:54:46) [GCC 11.2.0]\n",
      "Linux-4.18.0-553.30.1.el8_10.x86_64-x86_64-with-glibc2.28\n",
      "-----\n",
      "Session information updated at 2025-02-08 11:31\n"
     ]
    }
   ],
   "source": [
    "sc.logging.print_versions()\n",
    "sc.set_figure_params(facecolor=\"white\", figsize=(7, 4))\n",
    "sc.settings.verbosity = 3"
   ]
  },
  {
   "cell_type": "markdown",
   "id": "9b3a12da-f2f6-4e2d-8120-5986029bd1ff",
   "metadata": {},
   "source": [
    "#### I imported the training dataset and created a duplicate variable. The first variable, `train`, will be used for feature selection, while the second, `trainraw`, will be designated for actual training. This dataset was generated in the notebook titled `fron_no_adolescence_to_final_training_dataset.ipynb`."
   ]
  },
  {
   "cell_type": "code",
   "execution_count": 3,
   "id": "8c89133b-6141-4cae-8ca4-2d3a0486acee",
   "metadata": {},
   "outputs": [],
   "source": [
    "train = sc.read_h5ad(\n",
    "    '/hpc/hers_basak/rnaseq_data/Silettilab/icoratella/final_useful_datasets/noAdolescence_nocc_noclusters_ThirdManualAnnotations_Interneurons.h5ad')\n",
    "trainraw = train.copy()"
   ]
  },
  {
   "cell_type": "code",
   "execution_count": 4,
   "id": "faf3a67a-c7f8-418f-93f9-d641f82a6e2f",
   "metadata": {},
   "outputs": [],
   "source": [
    "test = sc.read_h5ad(\n",
    "    '/hpc/hers_basak/rnaseq_data/Silettilab/proj/GBM/output/data/GBM_Tumor_Dissociation.h5ad')"
   ]
  },
  {
   "cell_type": "markdown",
   "id": "b4c846f0-ba5b-4658-94d3-5652ff25d067",
   "metadata": {},
   "source": [
    "## Step 1: Initial adjustments."
   ]
  },
  {
   "cell_type": "markdown",
   "id": "f27b3ff8-daa8-41cd-8877-17e88db8cffc",
   "metadata": {},
   "source": [
    "#### I changed the index of `test.var` from ensemble IDs to gene names."
   ]
  },
  {
   "cell_type": "code",
   "execution_count": 5,
   "id": "8a45e62b-69c4-4cf4-8305-ccdc1cd47397",
   "metadata": {},
   "outputs": [
    {
     "name": "stderr",
     "output_type": "stream",
     "text": [
      "/hpc/hers_basak/rnaseq_data/Silettilab/icoratella/miniconda3/lib/python3.11/site-packages/anndata/_core/anndata.py:767: UserWarning: \n",
      "AnnData expects .var.index to contain strings, but got values like:\n",
      "    ['marker-DsRed', 'marker-Cherry', 'marker-GFP', 'marker-Tomato', 'marker-cre']\n",
      "\n",
      "    Inferred to be: categorical\n",
      "\n",
      "  value_idx = self._prep_dim_index(value.index, attr)\n"
     ]
    }
   ],
   "source": [
    "test.var = (\n",
    "    test.var\n",
    "    .reset_index()                      \n",
    "    .rename(columns={'index': 'ensemble_ids'})  \n",
    "    .set_index('Gene')                  \n",
    ")"
   ]
  },
  {
   "cell_type": "markdown",
   "id": "60369d99-bfb6-435b-88f0-ec0a9f11a16c",
   "metadata": {},
   "source": [
    "#### I made unique test names."
   ]
  },
  {
   "cell_type": "code",
   "execution_count": 6,
   "id": "5626cf8b-37a2-466e-b613-df3eee0a2938",
   "metadata": {},
   "outputs": [],
   "source": [
    "test.var.index = test.var.index.astype(str)\n",
    "test.var_names_make_unique(join=\"_\")"
   ]
  },
  {
   "cell_type": "markdown",
   "id": "0eb9795f-16a0-4507-bab4-44a2e513513c",
   "metadata": {},
   "source": [
    "#### I randomly selected 5000 cells for cell class to ensure a more balanced representation across all classes."
   ]
  },
  {
   "cell_type": "code",
   "execution_count": 7,
   "id": "6cabce1d-9510-4afe-987d-c9dc35c275a7",
   "metadata": {},
   "outputs": [],
   "source": [
    "cell_counts = train.obs['ThirdManualAnnotations'].value_counts()\n",
    "allsampledindices = []\n",
    "\n",
    "for cell_class, count in cell_counts.items():\n",
    "    cells_of_class = train.obs[train.obs['ThirdManualAnnotations'] == cell_class]\n",
    "\n",
    "    sampled_cells = cells_of_class.sample(n=min(count, 5000), replace=False, random_state = 42)\n",
    "    allsampledindices.append(sampled_cells.index)\n",
    "\n",
    "allsampledindices = np.hstack(allsampledindices)\n",
    "train = train[allsampledindices]"
   ]
  },
  {
   "cell_type": "markdown",
   "id": "43852886-3b8e-4b95-affa-8e9f3d519a98",
   "metadata": {},
   "source": [
    "## Step 2: Feature selection."
   ]
  },
  {
   "cell_type": "markdown",
   "id": "feb3870e-b4f8-4b10-a6eb-0afd5ab6f8ae",
   "metadata": {},
   "source": [
    "#### I removed cell cycling genes."
   ]
  },
  {
   "cell_type": "code",
   "execution_count": 8,
   "id": "89c45d06-a6c1-499a-882f-5defd170536b",
   "metadata": {},
   "outputs": [],
   "source": [
    "ccGenesHuman = np.loadtxt('/hpc/hers_basak/rnaseq_data/Silettilab/icoratella/models/ccGenesHuman.txt', dtype=str)\n",
    "train = train[:, ~np.isin(train.var_names, ccGenesHuman)]"
   ]
  },
  {
   "cell_type": "code",
   "execution_count": 9,
   "id": "b1c573b0-fbec-47d6-9b8d-bff0046eed09",
   "metadata": {},
   "outputs": [],
   "source": [
    "cc2 = ['CCND2', 'TFDP2']\n",
    "train = train[:, ~np.isin(train.var_names, cc2)]"
   ]
  },
  {
   "cell_type": "markdown",
   "id": "17ccbb85-3c5a-4550-92bf-fa773ce3a54d",
   "metadata": {},
   "source": [
    "#### I excluded mitochondrial, ribosomal, and tubulin genes, as well as MALAT1 and EGFR from the analysis because their overexpression in tumors could bias the classification results."
   ]
  },
  {
   "cell_type": "code",
   "execution_count": 10,
   "id": "56faf42a-549d-4a4f-bf4b-01a019a7b99a",
   "metadata": {},
   "outputs": [],
   "source": [
    "badGenes = [el for el in train.var_names \n",
    "            if el.startswith(('MT-', 'RP', 'TUB')) or el in {'MALAT1', 'EGFR'}]\n",
    "\n",
    "train = train[:, ~np.isin(train.var_names, badGenes)]"
   ]
  },
  {
   "cell_type": "markdown",
   "id": "b8d94fef-1418-4caa-b857-cbb7742930c4",
   "metadata": {},
   "source": [
    "#### I retained only the genes that are common to both the training and test datasets."
   ]
  },
  {
   "cell_type": "code",
   "execution_count": 11,
   "id": "40ead9f3-2756-4c96-9c34-0d477f037894",
   "metadata": {},
   "outputs": [],
   "source": [
    "commonGenes = np.intersect1d(train.var_names, test.var_names)\n",
    "train, test, trainraw = [ds[:, commonGenes] for ds in (train, test, trainraw)]"
   ]
  },
  {
   "cell_type": "markdown",
   "id": "2ddf6aff-4664-436c-bda0-c870b023b1f4",
   "metadata": {},
   "source": [
    "#### I normalized and logarithmized the dataset."
   ]
  },
  {
   "cell_type": "code",
   "execution_count": 12,
   "id": "c32dcfc7-95c1-4be0-8050-7a834ff0a94b",
   "metadata": {},
   "outputs": [
    {
     "name": "stderr",
     "output_type": "stream",
     "text": [
      "/hpc/hers_basak/rnaseq_data/Silettilab/icoratella/miniconda3/lib/python3.11/site-packages/scanpy/preprocessing/_normalization.py:206: UserWarning: Received a view of an AnnData. Making a copy.\n",
      "  view_to_actual(adata)\n"
     ]
    },
    {
     "name": "stdout",
     "output_type": "stream",
     "text": [
      "normalizing counts per cell\n",
      "    finished (0:00:04)\n"
     ]
    }
   ],
   "source": [
    "sc.pp.normalize_total(train, target_sum=1e4)\n",
    "sc.pp.log1p(train)"
   ]
  },
  {
   "cell_type": "markdown",
   "id": "bebbf9ac-951d-455f-bdc4-28d828c129d9",
   "metadata": {},
   "source": [
    "#### I selected only the first 4000 most variable genes."
   ]
  },
  {
   "cell_type": "code",
   "execution_count": 13,
   "id": "a7eeacba-342f-427d-975e-8c1503458957",
   "metadata": {},
   "outputs": [
    {
     "name": "stdout",
     "output_type": "stream",
     "text": [
      "extracting highly variable genes\n",
      "    finished (0:00:02)\n",
      "--> added\n",
      "    'highly_variable', boolean vector (adata.var)\n",
      "    'means', float vector (adata.var)\n",
      "    'dispersions', float vector (adata.var)\n",
      "    'dispersions_norm', float vector (adata.var)\n"
     ]
    }
   ],
   "source": [
    "sc.pp.highly_variable_genes(train, min_mean=0.0125, max_mean=3, min_disp=0.5, n_top_genes=4000)\n",
    "train = train[:, train.var.highly_variable]"
   ]
  },
  {
   "cell_type": "markdown",
   "id": "58740238-88b6-43ed-996d-bb1ae7a161cd",
   "metadata": {},
   "source": [
    "#### I conducted a differential expression analysis followed by a filtering step to identify the most significant genes.\n"
   ]
  },
  {
   "cell_type": "code",
   "execution_count": 14,
   "id": "4ab930f6-20e2-4d51-a276-127bdb2980aa",
   "metadata": {},
   "outputs": [
    {
     "name": "stdout",
     "output_type": "stream",
     "text": [
      "ranking genes\n"
     ]
    },
    {
     "name": "stderr",
     "output_type": "stream",
     "text": [
      "/hpc/hers_basak/rnaseq_data/Silettilab/icoratella/miniconda3/lib/python3.11/site-packages/scanpy/tools/_rank_genes_groups.py:640: ImplicitModificationWarning: Trying to modify attribute `._uns` of view, initializing view as actual.\n",
      "  adata.uns[key_added] = {}\n"
     ]
    },
    {
     "name": "stdout",
     "output_type": "stream",
     "text": [
      "    finished: added to `.uns['rank_genes_groups']`\n",
      "    'names', sorted np.recarray to be indexed by group ids\n",
      "    'scores', sorted np.recarray to be indexed by group ids\n",
      " (0:00:24)\n",
      "Filtering genes using: min_in_group_fraction: 0.25 min_fold_change: 1, max_out_group_fraction: 0.2\n"
     ]
    },
    {
     "name": "stderr",
     "output_type": "stream",
     "text": [
      "/hpc/hers_basak/rnaseq_data/Silettilab/icoratella/miniconda3/lib/python3.11/site-packages/sklearn/linear_model/_logistic.py:469: ConvergenceWarning: lbfgs failed to converge (status=1):\n",
      "STOP: TOTAL NO. of ITERATIONS REACHED LIMIT.\n",
      "\n",
      "Increase the number of iterations (max_iter) or scale the data as shown in:\n",
      "    https://scikit-learn.org/stable/modules/preprocessing.html\n",
      "Please also refer to the documentation for alternative solver options:\n",
      "    https://scikit-learn.org/stable/modules/linear_model.html#logistic-regression\n",
      "  n_iter_i = _check_optimize_result(\n"
     ]
    }
   ],
   "source": [
    "sc.tl.rank_genes_groups(train, groupby=\"ThirdManualAnnotations\",method= 'logreg', use_raw=False)\n",
    "sc.tl.filter_rank_genes_groups(train,  max_out_group_fraction=0.2)"
   ]
  },
  {
   "cell_type": "markdown",
   "id": "fad38200-2fa9-4dcf-8716-474c2d1bc81d",
   "metadata": {},
   "source": [
    "#### I identified the 25 most expressed and specific genes for each class, excluding NaN values."
   ]
  },
  {
   "cell_type": "code",
   "execution_count": 15,
   "id": "6a6b51d9-deff-4569-8e03-d3deac4816f0",
   "metadata": {},
   "outputs": [],
   "source": [
    "filtered_genes = {}\n",
    "for group in train.uns['rank_genes_groups_filtered']['names'].dtype.names:\n",
    "    genes = train.uns['rank_genes_groups_filtered']['names'][group]\n",
    "    filtered_gene_list = [gene for gene in genes if pd.notnull(gene)]\n",
    "    filtered_genes[group] = filtered_gene_list[:25]\n",
    "filtered_genes = list(set([item for sublist in filtered_genes.values() for item in sublist]))"
   ]
  },
  {
   "cell_type": "markdown",
   "id": "30fdf7dd-17f0-4022-a49d-38b41fdae4fe",
   "metadata": {},
   "source": [
    "#### I imported some manually selected genes."
   ]
  },
  {
   "cell_type": "code",
   "execution_count": 16,
   "id": "d1e3486b-4785-4b69-824e-98a506a9626d",
   "metadata": {},
   "outputs": [],
   "source": [
    "aleGenes = ['AQP4','ADGRV1','MGST1','SPARCL1','EGFR','ID3','CST3','BCAN', 'VEGFA','LGALS1','LGALS3', 'ETV1','PTPRZ1','ITM2C','HOPX','VIM','CLU', \n",
    "            'CDK4','SOX2','STMN1','STMN2', 'ASCL1','HES1','NHLH1','NRXN3','RBP1', 'PLP1', 'OLIG1','OLIG2','SOX10','PDGFRA', 'ACTA2','FN1','CLDN5',\n",
    "            'VXN','VWF','ITM2A', 'COL1A1','COL3A1','COL4A1', 'IGHM','IGKC', 'CD3G','CD3D','CD3E','TRAC', 'CD4', 'CD8A','GZMH','GZMK','GNLY','CD74',\n",
    "            'FTL','SPP1','C1QA','C1QB','C1QC','CSF1R', 'HLA-DRA','HLA-DQB1','FOXM1','TYMS']"
   ]
  },
  {
   "cell_type": "code",
   "execution_count": 17,
   "id": "742a026b-843c-4ad7-83c5-a493529811d1",
   "metadata": {},
   "outputs": [],
   "source": [
    "myGenes = [\n",
    "    'LIX1', 'LEF1', 'HEY1', 'CRABP2', 'AMBN', 'TPD52L1', 'SNCG', 'ECEL1', 'CNFN', 'OLFM3',\n",
    "    'CST3', 'TC', 'ATP1A2', 'SPARCL1', 'APOE', 'NEAT1', 'AQP4', 'SLC4A4', 'GLIS3', 'GRM3',\n",
    "    'TNC', 'MGAT4C', 'LRIG1', 'GJA1', 'ACSL6', 'NPNT', 'PAQR8', 'COL5A3', 'FRMPD2',\n",
    "    'CD44', 'GALNT15', 'CD38', 'DAAM2', 'ANGPT1', 'COLEC12', 'AQP1', 'HSPB8',\n",
    "    'PCDH15', 'OPCML', 'CSMD3', 'CA10', 'FGF14', 'NXPH1', 'TNR', 'FGF12', 'MDGA2',\n",
    "    'DNM3', 'CNTNAP5', 'NRXN3', 'SGCZ', 'COL20A1', 'CHRM3', 'PDGFRA', 'AFAP1L2', 'APOD',\n",
    "    'PDGFD', 'LIPG', 'IQGAP2', 'AKAP12', 'NIPY', 'TMTC1', 'FBXO32', 'EVA1C', 'LAMA3',\n",
    "    'CCDC175', 'ELAVL2', 'SRRM4', 'HES6', 'PLXNA2', 'EOMES', 'EPHA3', 'NHLH1', 'GADD45G',\n",
    "    'MYT1L', 'RBFOX3', 'ELAVL4', 'SLC22A23', 'PGP13', 'KCNB2', 'NEUROG1', 'MFNG',\n",
    "    'MYCL', 'RGS16', 'CREG2', 'GREM2', 'EBF2', 'NHLH2', 'LHX9', 'SPINK5', 'FNDC5',\n",
    "    'EBF1', 'NRN1', 'CLMP', 'SLA', 'PPP1R17', 'SL17A6', 'NEUROD2', 'NEUROD6',\n",
    "    'LGR6', 'VAV3', 'ADCY1', 'RGS6', 'KLHL4', 'GAD1', 'ATP2C2', 'GALR1', 'DBX2',\n",
    "    'SLC6A11', 'ST8SIA5', 'CCDC80', 'MATN2', 'CAPS2',\n",
    "    'DLL3', 'ASCL1', 'CCDC178', 'GSG1L', 'RFTN1', 'IGSF9B', 'ANGEL1', 'CASP9',\n",
    "    'KIRREL3', 'DPF3', 'SLIT1', 'IRX1', 'VIPR2', 'DLX6', 'DLX6-AS1', 'DLX5', 'GAD1', 'GAD2', 'GAD45G', 'EGR1'\n",
    "]\n"
   ]
  },
  {
   "cell_type": "markdown",
   "id": "9c7d8ff8-a2de-4933-972c-bcacab962bc2",
   "metadata": {},
   "source": [
    "#### I combined the genes filtered through differential expression analysis with those manually selected."
   ]
  },
  {
   "cell_type": "code",
   "execution_count": 18,
   "id": "22d4abb3-4ae0-41b0-8f8e-56349ac33e3c",
   "metadata": {},
   "outputs": [],
   "source": [
    "selectedGenes = np.unique(np.concatenate((aleGenes, filtered_genes, myGenes)))"
   ]
  },
  {
   "cell_type": "code",
   "execution_count": 19,
   "id": "69e27422-fbf1-4df7-9635-4193db243869",
   "metadata": {},
   "outputs": [],
   "source": [
    "selectedGenes = functools.reduce(np.intersect1d, (selectedGenes, trainraw.var_names, test.var_names))\n",
    "trainraw = trainraw[:, selectedGenes]"
   ]
  },
  {
   "cell_type": "markdown",
   "id": "b2649934-aaf0-458d-a23f-030b7741fa4a",
   "metadata": {},
   "source": [
    "#### I archived the selected genes for use in the `Mahalanobis_testing.ipynb` notebook."
   ]
  },
  {
   "cell_type": "code",
   "execution_count": 20,
   "id": "35750e9a-8e8b-4801-93d5-b35542a8b85a",
   "metadata": {},
   "outputs": [],
   "source": [
    "np.savetxt('/hpc/hers_basak/rnaseq_data/Silettilab/icoratella/final_useful_datasets/MD_selected_genes.txt', selectedGenes, delimiter=\",\", fmt='%s')"
   ]
  },
  {
   "cell_type": "markdown",
   "id": "bb427470-728f-4c22-9e66-3b9b4de16081",
   "metadata": {},
   "source": [
    "## Step 3: training of the model on `trainraw`."
   ]
  },
  {
   "cell_type": "markdown",
   "id": "47d753ee-1966-4726-9ef3-3c18c379f173",
   "metadata": {},
   "source": [
    "#### Normalization by row and logarithmization."
   ]
  },
  {
   "cell_type": "code",
   "execution_count": 21,
   "id": "3fb1fac3-d9b5-4f4f-9d3f-8567f50316a3",
   "metadata": {},
   "outputs": [
    {
     "name": "stderr",
     "output_type": "stream",
     "text": [
      "/hpc/hers_basak/rnaseq_data/Silettilab/icoratella/miniconda3/lib/python3.11/site-packages/scanpy/preprocessing/_normalization.py:206: UserWarning: Received a view of an AnnData. Making a copy.\n",
      "  view_to_actual(adata)\n"
     ]
    },
    {
     "name": "stdout",
     "output_type": "stream",
     "text": [
      "normalizing counts per cell\n",
      "    finished (0:00:00)\n"
     ]
    }
   ],
   "source": [
    "sc.pp.normalize_total(trainraw, target_sum=1e4)\n",
    "sc.pp.log1p(trainraw)"
   ]
  },
  {
   "cell_type": "markdown",
   "id": "2b6f1e17-e46e-41bf-8fd2-3caceea9221b",
   "metadata": {},
   "source": [
    "#### I scaled (by column) the training dataset."
   ]
  },
  {
   "cell_type": "code",
   "execution_count": 22,
   "id": "5de4ed9a-d024-418f-9a00-8a3bf3242a9a",
   "metadata": {},
   "outputs": [],
   "source": [
    "train_X_dense = trainraw.X.toarray()\n",
    "scaler = StandardScaler(with_mean=True, with_std=True)\n",
    "train_scaled = scaler.fit_transform(train_X_dense)"
   ]
  },
  {
   "cell_type": "markdown",
   "id": "83368aeb-e0ae-4ca7-b263-754c3d534ddb",
   "metadata": {},
   "source": [
    "#### I applied a PCA model to the training dataset."
   ]
  },
  {
   "cell_type": "code",
   "execution_count": 23,
   "id": "b70011ec-e4fb-4b83-b84d-cda0f33902fe",
   "metadata": {},
   "outputs": [],
   "source": [
    "pca = PCA(n_components=50, svd_solver='auto', random_state=42)\n",
    "\n",
    "train_pca = pca.fit_transform(train_scaled)\n",
    "trainraw.obsm['X_pca'] = train_pca"
   ]
  },
  {
   "cell_type": "markdown",
   "id": "ae822026-14f5-46d1-857f-56f838fbcbea",
   "metadata": {},
   "source": [
    "#### I computed means and covariances of each cell class in the pca training subspace."
   ]
  },
  {
   "cell_type": "code",
   "execution_count": 24,
   "id": "5e76cb28-3f5b-4600-a60f-d2915a5b9ca6",
   "metadata": {},
   "outputs": [],
   "source": [
    "pca_projections = trainraw.obsm['X_pca']\n",
    "cell_types = trainraw.obs['ThirdManualAnnotations'].unique()\n",
    "\n",
    "means = {}\n",
    "covariances = {}\n",
    "\n",
    "for cell_type in cell_types:\n",
    "    subset_indices = trainraw.obs['ThirdManualAnnotations'] == cell_type\n",
    "    subset_pca = pca_projections[subset_indices]\n",
    "   \n",
    "    mean_vector = np.mean(subset_pca, axis=0)\n",
    "    covariance_matrix = np.cov(subset_pca, rowvar=False)\n",
    "    means[cell_type] = mean_vector\n",
    "    covariances[cell_type] = covariance_matrix"
   ]
  },
  {
   "cell_type": "markdown",
   "id": "f2940d77-5bb2-48cb-8ed9-cc278543168e",
   "metadata": {},
   "source": [
    "#### I saved the scaler and PCA models, along with the means and covariance matrices, to disk so they can be applied to the test dataset in the `Mahalanobis_testing.ipynb` notebook."
   ]
  },
  {
   "cell_type": "code",
   "execution_count": 25,
   "id": "912d5975-4bae-48d9-9ee4-608e7df306ce",
   "metadata": {},
   "outputs": [
    {
     "data": {
      "text/plain": [
       "['/hpc/hers_basak/rnaseq_data/Silettilab/icoratella/final_useful_datasets/models/MD_covariances.joblib']"
      ]
     },
     "execution_count": 25,
     "metadata": {},
     "output_type": "execute_result"
    }
   ],
   "source": [
    "joblib.dump(scaler, '/hpc/hers_basak/rnaseq_data/Silettilab/icoratella/final_useful_datasets/models/MD_scaler.joblib')\n",
    "joblib.dump(pca, '/hpc/hers_basak/rnaseq_data/Silettilab/icoratella/final_useful_datasets/models/MD_pca.joblib')\n",
    "joblib.dump(means, '/hpc/hers_basak/rnaseq_data/Silettilab/icoratella/final_useful_datasets/models/MD_means.joblib')\n",
    "joblib.dump(covariances, '/hpc/hers_basak/rnaseq_data/Silettilab/icoratella/final_useful_datasets/models/MD_covariances.joblib')"
   ]
  },
  {
   "cell_type": "markdown",
   "id": "a04224f8-477e-49d8-8bea-06a758868f1a",
   "metadata": {},
   "source": [
    "## Step 4: extracting important genes for the classifier.\n",
    "\n",
    "The code first computes the pooled covariance matrix from PCA projections of all cells and calculates the mean PCA vector for each cell type. Then, it uses the inverse covariance matrix to derive discriminant vectors in PCA space, maps these vectors back to gene space using the PCA loadings, and finally selects the top 25 genes per cell type based on the highest absolute weights, highlighting the genes that best differentiate each cell type."
   ]
  },
  {
   "cell_type": "code",
   "execution_count": 26,
   "id": "46ea65b2-b4e6-458b-9ae3-69316b469dc2",
   "metadata": {},
   "outputs": [
    {
     "name": "stdout",
     "output_type": "stream",
     "text": [
      "\n",
      "Subcortical nIPCs:\n",
      "        Gene     Score\n",
      "0        SP9  0.547879\n",
      "1       CHGB  0.373778\n",
      "2     PDZRN4  0.321845\n",
      "3       DLX5  0.314987\n",
      "4       DLX2  0.304394\n",
      "5       GAD2  0.297761\n",
      "6       ZIC1  0.280091\n",
      "7      TENM2  0.269600\n",
      "8      GREM2  0.266048\n",
      "9       EBF1  0.259986\n",
      "10      DLX6  0.249402\n",
      "11  C11orf96  0.247086\n",
      "12   CACNA1E  0.245942\n",
      "13    SORCS2  0.233969\n",
      "14  DLX6-AS1  0.227231\n",
      "15     NHLH2  0.225730\n",
      "16      EBF2 -0.208301\n",
      "17    CITED2  0.197662\n",
      "18     EOMES -0.192364\n",
      "19     MYO1B  0.187467\n",
      "20     CREG2 -0.186588\n",
      "21    SPINK5 -0.180107\n",
      "22     STMN2  0.178406\n",
      "23    PDZRN3  0.175685\n",
      "24    PTPRZ1 -0.166022\n",
      "\n",
      "early Radial Glia:\n",
      "       Gene     Score\n",
      "0      LIX1  0.151027\n",
      "1     NDST4  0.123739\n",
      "2      LEF1  0.121225\n",
      "3      HEY1  0.107200\n",
      "4      AMBN  0.106130\n",
      "5       NPY -0.098952\n",
      "6     CDH12  0.096888\n",
      "7    LGALS3 -0.094177\n",
      "8      SOX3  0.091691\n",
      "9      SOX2  0.082464\n",
      "10     HOPX -0.081434\n",
      "11  ADAMTS9  0.075870\n",
      "12      VIM  0.075127\n",
      "13     BCAN -0.073594\n",
      "14    MOXD1 -0.067943\n",
      "15    EPHA6  0.067834\n",
      "16   CRABP2  0.067077\n",
      "17    RGS16 -0.066558\n",
      "18   CITED2  0.065356\n",
      "19    CNTN3 -0.063146\n",
      "20  FAM162A  0.062880\n",
      "21   HS6ST3  0.062873\n",
      "22   SH3RF3 -0.062780\n",
      "23    ABCC4  0.062540\n",
      "24     FAT4  0.060583\n",
      "\n",
      "late Radial Glia:\n",
      "       Gene     Score\n",
      "0     PDGFD  0.170799\n",
      "1      LIPG  0.156514\n",
      "2     MOXD1  0.154388\n",
      "3   CCDC175  0.138779\n",
      "4    FBXO32  0.135752\n",
      "5     LAMA3  0.135482\n",
      "6       NPY  0.126990\n",
      "7    IQGAP2  0.125915\n",
      "8      HOPX  0.124526\n",
      "9     TMTC1  0.121876\n",
      "10   AKAP12  0.117192\n",
      "11     EGR1  0.117158\n",
      "12    EVA1C  0.114879\n",
      "13    CNTN3  0.110391\n",
      "14    ITGA2  0.109291\n",
      "15   LGALS3  0.108251\n",
      "16     SAT1  0.106534\n",
      "17   FGFBP3  0.094942\n",
      "18     ETV5  0.092289\n",
      "19     AMBN -0.091302\n",
      "20     LEF1 -0.089530\n",
      "21   PTPRZ1  0.087477\n",
      "22  ADAMTS9 -0.086631\n",
      "23   SH3RF3  0.082817\n",
      "24      BOC  0.080046\n",
      "\n",
      "Astrocytes:\n",
      "         Gene     Score\n",
      "0     SPARCL1  0.151089\n",
      "1        APOE  0.143033\n",
      "2        AQP4  0.142896\n",
      "3       GLIS3  0.113115\n",
      "4       DAAM2  0.110948\n",
      "5        CST3  0.108575\n",
      "6      SLC4A4  0.102989\n",
      "7       NEAT1  0.102534\n",
      "8   LINC00609  0.100550\n",
      "9         MT3  0.098497\n",
      "10       GFAP  0.098064\n",
      "11        TNC  0.097008\n",
      "12       GJA1  0.093649\n",
      "13       NPNT  0.090702\n",
      "14        AGT  0.089718\n",
      "15      LRIG1  0.084526\n",
      "16     ABLIM1  0.082521\n",
      "17        CLU  0.076439\n",
      "18     ATP1A2  0.071006\n",
      "19     MGAT4C  0.068403\n",
      "20       GRM3  0.066191\n",
      "21      EDNRB  0.065955\n",
      "22    ATP13A4  0.065450\n",
      "23    SLC6A11  0.063571\n",
      "24   AQP4-AS1  0.062958\n",
      "\n",
      "nIPCs:\n",
      "        Gene     Score\n",
      "0     PLXNA2  0.099852\n",
      "1      EOMES  0.091386\n",
      "2     ELAVL2  0.088455\n",
      "3    NEUROG1  0.087419\n",
      "4       EBF2  0.086588\n",
      "5       CHGB -0.081688\n",
      "6       CLMP  0.077359\n",
      "7      LZTS1  0.073571\n",
      "8      EPHA3  0.073528\n",
      "9        SP9 -0.073264\n",
      "10  SLC22A23  0.068320\n",
      "11   GADD45G  0.067156\n",
      "12      HES6  0.065971\n",
      "13     KCNB2  0.063489\n",
      "14      LRP8  0.063266\n",
      "15      SOX2 -0.062541\n",
      "16      EGR1 -0.060124\n",
      "17     RGS16  0.059398\n",
      "18     SRRM4  0.059241\n",
      "19      MFNG  0.059096\n",
      "20      NRP1  0.059057\n",
      "21       CLU -0.055994\n",
      "22      CUX2  0.054386\n",
      "23    PTPRZ1 -0.054310\n",
      "24    RBFOX3  0.052427\n",
      "\n",
      "OPCs:\n",
      "       Gene     Score\n",
      "0      CA10  0.204264\n",
      "1    PCDH15  0.194544\n",
      "2    PDGFRA  0.177070\n",
      "3       TNR  0.174135\n",
      "4     NXPH1  0.173342\n",
      "5     CHRM3  0.154359\n",
      "6   CNTNAP5  0.146705\n",
      "7     CSMD3  0.140759\n",
      "8     SCN1A  0.140566\n",
      "9     OPCML  0.137832\n",
      "10    FGF14  0.136357\n",
      "11     SGCZ  0.136187\n",
      "12    MDGA2  0.134538\n",
      "13  COL20A1  0.132924\n",
      "14     SGCD  0.132722\n",
      "15    CNTN1  0.131775\n",
      "16   SORCS3  0.126720\n",
      "17   SHISA9  0.120633\n",
      "18  AFAP1L2  0.116321\n",
      "19     GRM5  0.114672\n",
      "20     GRM7  0.110840\n",
      "21    FGF12  0.110695\n",
      "22     APOD  0.107532\n",
      "23    DISC1  0.103785\n",
      "24    SOX10  0.099427\n",
      "\n",
      "pre-OPCs:\n",
      "        Gene     Score\n",
      "0    CCDC178  1.266659\n",
      "1   KCNQ1OT1  0.736913\n",
      "2      SLIT1  0.728232\n",
      "3      ACTN2  0.699668\n",
      "4      GSG1L  0.675896\n",
      "5      RFTN1  0.657351\n",
      "6    KIRREL3  0.641264\n",
      "7       DGKH  0.637337\n",
      "8      ILDR2  0.618807\n",
      "9     ANGEL1  0.540544\n",
      "10  COLGALT2  0.535674\n",
      "11      TNK2  0.500817\n",
      "12   SH3KBP1  0.495932\n",
      "13     OLIG1  0.491830\n",
      "14     CASP9  0.468382\n",
      "15     KCND3  0.464946\n",
      "16      ETV1  0.460734\n",
      "17    IGSF9B  0.450745\n",
      "18     GALR1 -0.442555\n",
      "19     VIPR2  0.423122\n",
      "20      DPF3  0.403044\n",
      "21     WSCD1  0.375153\n",
      "22    MAP3K1  0.372703\n",
      "23      ELF1  0.365805\n",
      "24     OLIG2  0.333844\n",
      "\n",
      "pre-Astrocytes:\n",
      "        Gene     Score\n",
      "0      KLHL4  0.778519\n",
      "1     MAP3K1  0.623127\n",
      "2       DPF3  0.514003\n",
      "3   COLGALT2  0.463050\n",
      "4      ADCY1  0.458914\n",
      "5       GAD1  0.418155\n",
      "6     ATP2C2  0.411142\n",
      "7       LGR6  0.396347\n",
      "8      TGFB2  0.384923\n",
      "9      MATN2  0.380222\n",
      "10      VAV3  0.371090\n",
      "11     ILDR2  0.363899\n",
      "12      DBX2  0.358564\n",
      "13      RGS6  0.348882\n",
      "14     PAQR8 -0.337312\n",
      "15      CD38 -0.335815\n",
      "16   KIRREL3  0.333205\n",
      "17      DGKH  0.325460\n",
      "18    ATP10B -0.320690\n",
      "19     CDHR3 -0.317846\n",
      "20     ACTN2  0.307192\n",
      "21    COL4A2  0.306139\n",
      "22     PDE7B -0.303883\n",
      "23    COL5A3 -0.302847\n",
      "24     ACSL6 -0.298046\n"
     ]
    }
   ],
   "source": [
    "#### step 1: compute the pooled covariance matrix in PCA space\n",
    "\n",
    "# retrieve the PCA projections for all cells from the dataset\n",
    "pca_projections = trainraw.obsm['X_pca']\n",
    "\n",
    "# compute the covariance matrix of the PCA projections\n",
    "# this covariance matrix represents the overall variability in the PCA space,\n",
    "# using all cells regardless of their type\n",
    "covariance_pca = np.cov(pca_projections, rowvar=False)\n",
    "\n",
    "# calculate the pseudo-inverse of the covariance matrix\n",
    "# the inverse will later be used to compute the discriminant vectors\n",
    "inv_covariance_pca = linalg.pinv(covariance_pca)\n",
    "\n",
    "\n",
    "#### step 2: compute the mean vector for each cell type in PCA space\n",
    "# identify all unique cell types in the dataset\n",
    "cell_types = trainraw.obs['ThirdManualAnnotations'].unique()\n",
    "means_pca = {}\n",
    "\n",
    "for cell_type in cell_types:\n",
    "    # select the indices corresponding to the current cell type\n",
    "    indices = trainraw.obs['ThirdManualAnnotations'] == cell_type\n",
    "    # retrieve the PCA data for these cells\n",
    "    data_pca = pca_projections[indices]\n",
    "    # compute the mean vector of the PCA components for these cells,\n",
    "    # which represents the \"center\" of the cell type in PCA space\n",
    "    means_pca[cell_type] = np.mean(data_pca, axis=0)\n",
    "\n",
    "\n",
    "# step 3: compute the discriminant vectors using the pooled covariance matrix\n",
    "# for each cell type, scale its mean vector by multiplying it with the pseudo-inverse\n",
    "# of the covariance matrix. This operation, similar to Fisher's linear discriminant analysis,\n",
    "# gives a vector that best separates the cell type from others in the PCA space.\n",
    "discriminant_vectors_pca = {}\n",
    "\n",
    "for cell_type in cell_types:\n",
    "    mean_c = means_pca[cell_type]\n",
    "    w_c_pca = inv_covariance_pca @ mean_c\n",
    "    discriminant_vectors_pca[cell_type] = w_c_pca\n",
    "\n",
    "\n",
    "# step 4: map the discriminant vectors back to gene space\n",
    "# the PCA components tell us how each gene contributes to the principal components.\n",
    "# To interpret the discriminant vectors in terms of genes, we multiply them by the transpose\n",
    "# of the PCA components. This gives us a weighted contribution of each gene in the discriminant vector.\n",
    "pca_components = pca.components_\n",
    "genes = trainraw.var_names\n",
    "\n",
    "discriminant_vectors_gene = {}\n",
    "\n",
    "for cell_type in cell_types:\n",
    "    w_c_pca = discriminant_vectors_pca[cell_type]\n",
    "    # map the discriminant vector from PCA space back to gene space\n",
    "    w_c_gene = pca_components.T @ w_c_pca\n",
    "    discriminant_vectors_gene[cell_type] = w_c_gene\n",
    "\n",
    "\n",
    "# step 5: identify the top genes for each cell type\n",
    "# for each cell type, select the genes with the highest absolute values in the discriminant vector.\n",
    "# these genes are the most influential in differentiating that cell type from the others.\n",
    "top_genes_per_class = {}\n",
    "n_top_genes = 25\n",
    "\n",
    "for cell_type in cell_types:\n",
    "    w_c_gene = discriminant_vectors_gene[cell_type]\n",
    "    # get indices of the top genes by sorting based on the absolute values of their scores\n",
    "    top_gene_indices = np.argsort(-np.abs(w_c_gene))[:n_top_genes]\n",
    "    top_genes = genes[top_gene_indices]\n",
    "    top_scores = w_c_gene[top_gene_indices]\n",
    "    # create a DataFrame for the current cell type showing the top genes and their scores\n",
    "    top_genes_per_class[cell_type] = pd.DataFrame({\n",
    "        'Gene': top_genes,\n",
    "        'Score': top_scores\n",
    "    })\n",
    "    print(f\"\\n{cell_type}:\")\n",
    "    print(top_genes_per_class[cell_type])\n"
   ]
  },
  {
   "cell_type": "code",
   "execution_count": null,
   "id": "5ea369b5-0280-4bdb-953f-ba2077299561",
   "metadata": {},
   "outputs": [],
   "source": []
  }
 ],
 "metadata": {
  "kernelspec": {
   "display_name": "Python 3 (ipykernel)",
   "language": "python",
   "name": "python3"
  },
  "language_info": {
   "codemirror_mode": {
    "name": "ipython",
    "version": 3
   },
   "file_extension": ".py",
   "mimetype": "text/x-python",
   "name": "python",
   "nbconvert_exporter": "python",
   "pygments_lexer": "ipython3",
   "version": "3.11.5"
  }
 },
 "nbformat": 4,
 "nbformat_minor": 5
}
